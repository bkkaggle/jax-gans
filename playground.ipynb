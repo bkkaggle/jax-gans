{
 "metadata": {
  "language_info": {
   "codemirror_mode": {
    "name": "ipython",
    "version": 3
   },
   "file_extension": ".py",
   "mimetype": "text/x-python",
   "name": "python",
   "nbconvert_exporter": "python",
   "pygments_lexer": "ipython3",
   "version": "3.7.5-final"
  },
  "orig_nbformat": 2,
  "kernelspec": {
   "name": "Python 3.7.5 64-bit ('pytorch': conda)",
   "display_name": "Python 3.7.5 64-bit ('pytorch': conda)",
   "metadata": {
    "interpreter": {
     "hash": "2a0dcc473b42072c6003f1a9a844b5459b3db9cecf194469f92969e4c4926e4b"
    }
   }
  }
 },
 "nbformat": 4,
 "nbformat_minor": 2,
 "cells": [
  {
   "cell_type": "code",
   "execution_count": 18,
   "metadata": {},
   "outputs": [],
   "source": [
    "import numpy as np\n",
    "from tqdm import tqdm\n",
    "import matplotlib.pyplot as plt\n",
    "\n",
    "import jax\n",
    "import jax.numpy as jnp\n",
    "import flax\n",
    "\n",
    "import tensorflow as tf\n",
    "import tensorflow_datasets as tfds"
   ]
  },
  {
   "cell_type": "code",
   "execution_count": 19,
   "metadata": {},
   "outputs": [],
   "source": [
    "mnist = tfds.load(\"mnist\")\n",
    "\n",
    "def make_dataset(batch_size, seed=1):\n",
    "\n",
    "    def _preprocess(sample):\n",
    "        # Convert to floats in [0, 1].\n",
    "        image = tf.image.convert_image_dtype(sample[\"image\"], tf.float32)\n",
    "        # Scale the data to [-1, 1] to stabilize training.\n",
    "        return 2.0 * image - 1.0\n",
    "\n",
    "    ds = mnist[\"train\"]\n",
    "    ds = ds.map(map_func=_preprocess,\n",
    "                num_parallel_calls=tf.data.experimental.AUTOTUNE)\n",
    "    # ds = ds.cache()\n",
    "    ds = ds.shuffle(10 * batch_size, seed=seed).repeat().batch(batch_size)\n",
    "    return iter(tfds.as_numpy(ds))\n",
    "\n",
    "# Make the dataset.\n",
    "dataset = make_dataset(batch_size=4)"
   ]
  },
  {
   "cell_type": "code",
   "execution_count": 20,
   "metadata": {},
   "outputs": [],
   "source": [
    "class Generator(flax.nn.Module):\n",
    "    def apply(self, z):\n",
    "        x = flax.nn.Dense(z, features=7*7*64)\n",
    "        x = jnp.reshape(x, [x.shape[0], 7, 7, 64])\n",
    "        x = flax.nn.relu(x)\n",
    "        x = flax.nn.ConvTranspose(\n",
    "            x, features=32, kernel_size=(5, 5), strides=(2, 2), padding='SAME')\n",
    "        x = flax.nn.relu(x)\n",
    "        x = flax.nn.ConvTranspose(\n",
    "            x, features=1, kernel_size=(5, 5), strides=(2, 2), padding='SAME')\n",
    "\n",
    "        x = jnp.tanh(x)\n",
    "\n",
    "        return x\n",
    "\n",
    "\n",
    "class Discriminator(flax.nn.Module):\n",
    "    def apply(self, x):\n",
    "        x = flax.nn.Conv(x, features=8, kernel_size=(5, 5),\n",
    "                         strides=(2, 2), padding='SAME')\n",
    "        x = flax.nn.leaky_relu(x, negative_slope=0.2)\n",
    "\n",
    "        x = flax.nn.Conv(x, features=16, kernel_size=(5, 5),\n",
    "                         strides=(1, 1), padding='SAME')\n",
    "        x = flax.nn.leaky_relu(x, negative_slope=0.2)\n",
    "\n",
    "        x = flax.nn.Conv(x, features=32, kernel_size=(5, 5),\n",
    "                         strides=(2, 2), padding='SAME')\n",
    "        x = flax.nn.leaky_relu(x, negative_slope=0.2)\n",
    "\n",
    "        x = flax.nn.Conv(x, features=64, kernel_size=(5, 5),\n",
    "                         strides=(1, 1), padding='SAME')\n",
    "        x = flax.nn.leaky_relu(x, negative_slope=0.2)\n",
    "\n",
    "        x = flax.nn.Conv(x, features=128, kernel_size=(5, 5),\n",
    "                         strides=(2, 2), padding='SAME')\n",
    "        x = flax.nn.leaky_relu(x, negative_slope=0.2)\n",
    "\n",
    "        x = jnp.reshape(x, [x.shape[0], -1])\n",
    "\n",
    "        x = flax.nn.Dense(x, features=2)\n",
    "\n",
    "        return x\n"
   ]
  },
  {
   "cell_type": "code",
   "execution_count": 21,
   "metadata": {},
   "outputs": [],
   "source": [
    "batch = next(dataset)"
   ]
  },
  {
   "cell_type": "code",
   "execution_count": 22,
   "metadata": {},
   "outputs": [],
   "source": [
    "rng = jax.random.PRNGKey(42)\n",
    "rng, rng1 = jax.random.split(rng)"
   ]
  },
  {
   "cell_type": "code",
   "execution_count": 23,
   "metadata": {},
   "outputs": [],
   "source": [
    "  _, initial_params_g = Generator.init_by_shape(rng1, [((1, 20), jnp.float32)])\n",
    "  generator = flax.nn.Model(Generator, initial_params_g)"
   ]
  },
  {
   "cell_type": "code",
   "execution_count": 24,
   "metadata": {},
   "outputs": [],
   "source": [
    "  _, initial_params_d = Discriminator.init_by_shape(rng1, [((1, 28, 28, 1), jnp.float32)])\n",
    "  discriminator = flax.nn.Model(Discriminator, initial_params_d)"
   ]
  },
  {
   "cell_type": "code",
   "execution_count": 25,
   "metadata": {},
   "outputs": [],
   "source": [
    "optimizer_g = flax.optim.Adam(learning_rate=1e-4, beta1=0.5, beta2=0.9).create(generator)\n",
    "optimizer_d = flax.optim.Adam(learning_rate=1e-4, beta1=0.5, beta2=0.9).create(discriminator)"
   ]
  },
  {
   "cell_type": "code",
   "execution_count": 26,
   "metadata": {},
   "outputs": [],
   "source": [
    "@jax.vmap\n",
    "def sparse_softmax_cross_entropy(logits, labels):\n",
    "    one_hot_labels = jax.nn.one_hot(labels, logits.shape[-1])\n",
    "    return -jnp.sum(one_hot_labels * jax.nn.log_softmax(logits), axis=-1)"
   ]
  },
  {
   "cell_type": "code",
   "execution_count": 27,
   "metadata": {},
   "outputs": [],
   "source": [
    "def sample(rng, generator, num_samples):\n",
    "    z = jax.random.normal(rng, shape=(num_samples, 20))\n",
    "    return generator(z)"
   ]
  },
  {
   "cell_type": "code",
   "execution_count": 33,
   "metadata": {},
   "outputs": [],
   "source": [
    "@jax.vmap\n",
    "def loss1(fake_logits):\n",
    "    fake_probs = jax.nn.softmax(fake_logits)[:, 1]\n",
    "    loss = jnp.mean(-jnp.log(fake_probs))\n",
    "\n",
    "    return loss"
   ]
  },
  {
   "cell_type": "code",
   "execution_count": 34,
   "metadata": {},
   "outputs": [],
   "source": [
    "@jax.jit\n",
    "def loss_g(generator, discriminator, rng, batch):\n",
    "    fake_batch = sample(rng, generator, batch.shape[0])\n",
    "\n",
    "    fake_logits = discriminator(fake_batch)\n",
    "\n",
    "    return loss1(fake_logits)"
   ]
  },
  {
   "cell_type": "code",
   "execution_count": 29,
   "metadata": {},
   "outputs": [],
   "source": [
    "@jax.jit\n",
    "def loss_d(discriminator, generator, rng, batch):\n",
    "    fake_batch = sample(rng, generator, batch.shape[0])\n",
    "\n",
    "    real_and_fake_batch = jnp.concatenate([batch, fake_batch], axis=0)\n",
    "    real_and_fake_logits = discriminator(real_and_fake_batch)\n",
    "    real_logits, fake_logits = jnp.split(real_and_fake_logits, 2, axis=0)\n",
    "\n",
    "    real_labels = jnp.ones((batch.shape[0],), dtype=jnp.int32)\n",
    "    real_loss = sparse_softmax_cross_entropy(real_logits, real_labels)\n",
    "\n",
    "    fake_labels = jnp.zeros((batch.shape[0],), dtype=jnp.int32)\n",
    "    fake_loss = sparse_softmax_cross_entropy(fake_logits, fake_labels)\n",
    "\n",
    "    loss = jnp.mean(real_loss + fake_loss)\n",
    "    return loss"
   ]
  },
  {
   "cell_type": "code",
   "execution_count": 30,
   "metadata": {},
   "outputs": [],
   "source": [
    "def train_step(rng, optimizer_g, optimizer_d, batch):\n",
    "    rng, rng_gen, rng_disc = jax.random.split(rng, 3)\n",
    "\n",
    "    g_loss, grad_g = jax.value_and_grad(loss_g)(optimizer_g.target, optimizer_d.target, rng, batch)\n",
    "    optimizer_g = optimizer_g.apply_gradient(grad_g)\n",
    "\n",
    "    d_loss, grad_d = jax.value_and_grad(loss_d)(optimizer_d.target, optimizer_g.target, rng, batch)\n",
    "    optimizer_d = optimizer_d.apply_gradient(grad_d)\n",
    "\n",
    "    return optimizer_g, optimizer_d, d_loss, g_loss, rng"
   ]
  },
  {
   "cell_type": "code",
   "execution_count": 31,
   "metadata": {
    "tags": []
   },
   "outputs": [
    {
     "output_type": "stream",
     "name": "stderr",
     "text": [
      " 60%|██████    | 3/5 [00:07<00:10,  5.41s/it]1.4522817\n",
      "0.7090566\n",
      "1.4077485\n",
      "0.69913447\n",
      "1.3814361\n",
      "0.6947105\n",
      "100%|██████████| 5/5 [00:07<00:00,  1.60s/it]\n",
      "1.3151356\n",
      "0.69076526\n",
      "1.2683103\n",
      "0.6900234\n"
     ]
    },
    {
     "output_type": "display_data",
     "data": {
      "text/plain": "<Figure size 432x288 with 1 Axes>",
      "image/svg+xml": "<?xml version=\"1.0\" encoding=\"utf-8\" standalone=\"no\"?>\n<!DOCTYPE svg PUBLIC \"-//W3C//DTD SVG 1.1//EN\"\n  \"http://www.w3.org/Graphics/SVG/1.1/DTD/svg11.dtd\">\n<!-- Created with matplotlib (https://matplotlib.org/) -->\n<svg height=\"248.518125pt\" version=\"1.1\" viewBox=\"0 0 251.565 248.518125\" width=\"251.565pt\" xmlns=\"http://www.w3.org/2000/svg\" xmlns:xlink=\"http://www.w3.org/1999/xlink\">\n <defs>\n  <style type=\"text/css\">\n*{stroke-linecap:butt;stroke-linejoin:round;}\n  </style>\n </defs>\n <g id=\"figure_1\">\n  <g id=\"patch_1\">\n   <path d=\"M 0 248.518125 \nL 251.565 248.518125 \nL 251.565 0 \nL 0 0 \nz\n\" style=\"fill:none;\"/>\n  </g>\n  <g id=\"axes_1\">\n   <g id=\"patch_2\">\n    <path d=\"M 26.925 224.64 \nL 244.365 224.64 \nL 244.365 7.2 \nL 26.925 7.2 \nz\n\" style=\"fill:#ffffff;\"/>\n   </g>\n   <g clip-path=\"url(#pa218d893d6)\">\n    <image height=\"218\" id=\"imagef3ebb65219\" transform=\"scale(1 -1)translate(0 -218)\" width=\"218\" x=\"27\" xlink:href=\"data:image/png;base64,\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\" y=\"-6.518125\"/>\n   </g>\n   <g id=\"matplotlib.axis_1\">\n    <g id=\"xtick_1\">\n     <g id=\"line2d_1\">\n      <defs>\n       <path d=\"M 0 0 \nL 0 3.5 \n\" id=\"mb6c4e24664\" style=\"stroke:#000000;stroke-width:0.8;\"/>\n      </defs>\n      <g>\n       <use style=\"stroke:#000000;stroke-width:0.8;\" x=\"30.807857\" xlink:href=\"#mb6c4e24664\" y=\"224.64\"/>\n      </g>\n     </g>\n     <g id=\"text_1\">\n      <!-- 0 -->\n      <defs>\n       <path d=\"M 31.78125 66.40625 \nQ 24.171875 66.40625 20.328125 58.90625 \nQ 16.5 51.421875 16.5 36.375 \nQ 16.5 21.390625 20.328125 13.890625 \nQ 24.171875 6.390625 31.78125 6.390625 \nQ 39.453125 6.390625 43.28125 13.890625 \nQ 47.125 21.390625 47.125 36.375 \nQ 47.125 51.421875 43.28125 58.90625 \nQ 39.453125 66.40625 31.78125 66.40625 \nz\nM 31.78125 74.21875 \nQ 44.046875 74.21875 50.515625 64.515625 \nQ 56.984375 54.828125 56.984375 36.375 \nQ 56.984375 17.96875 50.515625 8.265625 \nQ 44.046875 -1.421875 31.78125 -1.421875 \nQ 19.53125 -1.421875 13.0625 8.265625 \nQ 6.59375 17.96875 6.59375 36.375 \nQ 6.59375 54.828125 13.0625 64.515625 \nQ 19.53125 74.21875 31.78125 74.21875 \nz\n\" id=\"DejaVuSans-48\"/>\n      </defs>\n      <g transform=\"translate(27.626607 239.238437)scale(0.1 -0.1)\">\n       <use xlink:href=\"#DejaVuSans-48\"/>\n      </g>\n     </g>\n    </g>\n    <g id=\"xtick_2\">\n     <g id=\"line2d_2\">\n      <g>\n       <use style=\"stroke:#000000;stroke-width:0.8;\" x=\"69.636429\" xlink:href=\"#mb6c4e24664\" y=\"224.64\"/>\n      </g>\n     </g>\n     <g id=\"text_2\">\n      <!-- 5 -->\n      <defs>\n       <path d=\"M 10.796875 72.90625 \nL 49.515625 72.90625 \nL 49.515625 64.59375 \nL 19.828125 64.59375 \nL 19.828125 46.734375 \nQ 21.96875 47.46875 24.109375 47.828125 \nQ 26.265625 48.1875 28.421875 48.1875 \nQ 40.625 48.1875 47.75 41.5 \nQ 54.890625 34.8125 54.890625 23.390625 \nQ 54.890625 11.625 47.5625 5.09375 \nQ 40.234375 -1.421875 26.90625 -1.421875 \nQ 22.3125 -1.421875 17.546875 -0.640625 \nQ 12.796875 0.140625 7.71875 1.703125 \nL 7.71875 11.625 \nQ 12.109375 9.234375 16.796875 8.0625 \nQ 21.484375 6.890625 26.703125 6.890625 \nQ 35.15625 6.890625 40.078125 11.328125 \nQ 45.015625 15.765625 45.015625 23.390625 \nQ 45.015625 31 40.078125 35.4375 \nQ 35.15625 39.890625 26.703125 39.890625 \nQ 22.75 39.890625 18.8125 39.015625 \nQ 14.890625 38.140625 10.796875 36.28125 \nz\n\" id=\"DejaVuSans-53\"/>\n      </defs>\n      <g transform=\"translate(66.455179 239.238437)scale(0.1 -0.1)\">\n       <use xlink:href=\"#DejaVuSans-53\"/>\n      </g>\n     </g>\n    </g>\n    <g id=\"xtick_3\">\n     <g id=\"line2d_3\">\n      <g>\n       <use style=\"stroke:#000000;stroke-width:0.8;\" x=\"108.465\" xlink:href=\"#mb6c4e24664\" y=\"224.64\"/>\n      </g>\n     </g>\n     <g id=\"text_3\">\n      <!-- 10 -->\n      <defs>\n       <path d=\"M 12.40625 8.296875 \nL 28.515625 8.296875 \nL 28.515625 63.921875 \nL 10.984375 60.40625 \nL 10.984375 69.390625 \nL 28.421875 72.90625 \nL 38.28125 72.90625 \nL 38.28125 8.296875 \nL 54.390625 8.296875 \nL 54.390625 0 \nL 12.40625 0 \nz\n\" id=\"DejaVuSans-49\"/>\n      </defs>\n      <g transform=\"translate(102.1025 239.238437)scale(0.1 -0.1)\">\n       <use xlink:href=\"#DejaVuSans-49\"/>\n       <use x=\"63.623047\" xlink:href=\"#DejaVuSans-48\"/>\n      </g>\n     </g>\n    </g>\n    <g id=\"xtick_4\">\n     <g id=\"line2d_4\">\n      <g>\n       <use style=\"stroke:#000000;stroke-width:0.8;\" x=\"147.293571\" xlink:href=\"#mb6c4e24664\" y=\"224.64\"/>\n      </g>\n     </g>\n     <g id=\"text_4\">\n      <!-- 15 -->\n      <g transform=\"translate(140.931071 239.238437)scale(0.1 -0.1)\">\n       <use xlink:href=\"#DejaVuSans-49\"/>\n       <use x=\"63.623047\" xlink:href=\"#DejaVuSans-53\"/>\n      </g>\n     </g>\n    </g>\n    <g id=\"xtick_5\">\n     <g id=\"line2d_5\">\n      <g>\n       <use style=\"stroke:#000000;stroke-width:0.8;\" x=\"186.122143\" xlink:href=\"#mb6c4e24664\" y=\"224.64\"/>\n      </g>\n     </g>\n     <g id=\"text_5\">\n      <!-- 20 -->\n      <defs>\n       <path d=\"M 19.1875 8.296875 \nL 53.609375 8.296875 \nL 53.609375 0 \nL 7.328125 0 \nL 7.328125 8.296875 \nQ 12.9375 14.109375 22.625 23.890625 \nQ 32.328125 33.6875 34.8125 36.53125 \nQ 39.546875 41.84375 41.421875 45.53125 \nQ 43.3125 49.21875 43.3125 52.78125 \nQ 43.3125 58.59375 39.234375 62.25 \nQ 35.15625 65.921875 28.609375 65.921875 \nQ 23.96875 65.921875 18.8125 64.3125 \nQ 13.671875 62.703125 7.8125 59.421875 \nL 7.8125 69.390625 \nQ 13.765625 71.78125 18.9375 73 \nQ 24.125 74.21875 28.421875 74.21875 \nQ 39.75 74.21875 46.484375 68.546875 \nQ 53.21875 62.890625 53.21875 53.421875 \nQ 53.21875 48.921875 51.53125 44.890625 \nQ 49.859375 40.875 45.40625 35.40625 \nQ 44.1875 33.984375 37.640625 27.21875 \nQ 31.109375 20.453125 19.1875 8.296875 \nz\n\" id=\"DejaVuSans-50\"/>\n      </defs>\n      <g transform=\"translate(179.759643 239.238437)scale(0.1 -0.1)\">\n       <use xlink:href=\"#DejaVuSans-50\"/>\n       <use x=\"63.623047\" xlink:href=\"#DejaVuSans-48\"/>\n      </g>\n     </g>\n    </g>\n    <g id=\"xtick_6\">\n     <g id=\"line2d_6\">\n      <g>\n       <use style=\"stroke:#000000;stroke-width:0.8;\" x=\"224.950714\" xlink:href=\"#mb6c4e24664\" y=\"224.64\"/>\n      </g>\n     </g>\n     <g id=\"text_6\">\n      <!-- 25 -->\n      <g transform=\"translate(218.588214 239.238437)scale(0.1 -0.1)\">\n       <use xlink:href=\"#DejaVuSans-50\"/>\n       <use x=\"63.623047\" xlink:href=\"#DejaVuSans-53\"/>\n      </g>\n     </g>\n    </g>\n   </g>\n   <g id=\"matplotlib.axis_2\">\n    <g id=\"ytick_1\">\n     <g id=\"line2d_7\">\n      <defs>\n       <path d=\"M 0 0 \nL -3.5 0 \n\" id=\"m01933c2f8b\" style=\"stroke:#000000;stroke-width:0.8;\"/>\n      </defs>\n      <g>\n       <use style=\"stroke:#000000;stroke-width:0.8;\" x=\"26.925\" xlink:href=\"#m01933c2f8b\" y=\"11.082857\"/>\n      </g>\n     </g>\n     <g id=\"text_7\">\n      <!-- 0 -->\n      <g transform=\"translate(13.5625 14.882076)scale(0.1 -0.1)\">\n       <use xlink:href=\"#DejaVuSans-48\"/>\n      </g>\n     </g>\n    </g>\n    <g id=\"ytick_2\">\n     <g id=\"line2d_8\">\n      <g>\n       <use style=\"stroke:#000000;stroke-width:0.8;\" x=\"26.925\" xlink:href=\"#m01933c2f8b\" y=\"49.911429\"/>\n      </g>\n     </g>\n     <g id=\"text_8\">\n      <!-- 5 -->\n      <g transform=\"translate(13.5625 53.710647)scale(0.1 -0.1)\">\n       <use xlink:href=\"#DejaVuSans-53\"/>\n      </g>\n     </g>\n    </g>\n    <g id=\"ytick_3\">\n     <g id=\"line2d_9\">\n      <g>\n       <use style=\"stroke:#000000;stroke-width:0.8;\" x=\"26.925\" xlink:href=\"#m01933c2f8b\" y=\"88.74\"/>\n      </g>\n     </g>\n     <g id=\"text_9\">\n      <!-- 10 -->\n      <g transform=\"translate(7.2 92.539219)scale(0.1 -0.1)\">\n       <use xlink:href=\"#DejaVuSans-49\"/>\n       <use x=\"63.623047\" xlink:href=\"#DejaVuSans-48\"/>\n      </g>\n     </g>\n    </g>\n    <g id=\"ytick_4\">\n     <g id=\"line2d_10\">\n      <g>\n       <use style=\"stroke:#000000;stroke-width:0.8;\" x=\"26.925\" xlink:href=\"#m01933c2f8b\" y=\"127.568571\"/>\n      </g>\n     </g>\n     <g id=\"text_10\">\n      <!-- 15 -->\n      <g transform=\"translate(7.2 131.36779)scale(0.1 -0.1)\">\n       <use xlink:href=\"#DejaVuSans-49\"/>\n       <use x=\"63.623047\" xlink:href=\"#DejaVuSans-53\"/>\n      </g>\n     </g>\n    </g>\n    <g id=\"ytick_5\">\n     <g id=\"line2d_11\">\n      <g>\n       <use style=\"stroke:#000000;stroke-width:0.8;\" x=\"26.925\" xlink:href=\"#m01933c2f8b\" y=\"166.397143\"/>\n      </g>\n     </g>\n     <g id=\"text_11\">\n      <!-- 20 -->\n      <g transform=\"translate(7.2 170.196362)scale(0.1 -0.1)\">\n       <use xlink:href=\"#DejaVuSans-50\"/>\n       <use x=\"63.623047\" xlink:href=\"#DejaVuSans-48\"/>\n      </g>\n     </g>\n    </g>\n    <g id=\"ytick_6\">\n     <g id=\"line2d_12\">\n      <g>\n       <use style=\"stroke:#000000;stroke-width:0.8;\" x=\"26.925\" xlink:href=\"#m01933c2f8b\" y=\"205.225714\"/>\n      </g>\n     </g>\n     <g id=\"text_12\">\n      <!-- 25 -->\n      <g transform=\"translate(7.2 209.024933)scale(0.1 -0.1)\">\n       <use xlink:href=\"#DejaVuSans-50\"/>\n       <use x=\"63.623047\" xlink:href=\"#DejaVuSans-53\"/>\n      </g>\n     </g>\n    </g>\n   </g>\n   <g id=\"patch_3\">\n    <path d=\"M 26.925 224.64 \nL 26.925 7.2 \n\" style=\"fill:none;stroke:#000000;stroke-linecap:square;stroke-linejoin:miter;stroke-width:0.8;\"/>\n   </g>\n   <g id=\"patch_4\">\n    <path d=\"M 244.365 224.64 \nL 244.365 7.2 \n\" style=\"fill:none;stroke:#000000;stroke-linecap:square;stroke-linejoin:miter;stroke-width:0.8;\"/>\n   </g>\n   <g id=\"patch_5\">\n    <path d=\"M 26.925 224.64 \nL 244.365 224.64 \n\" style=\"fill:none;stroke:#000000;stroke-linecap:square;stroke-linejoin:miter;stroke-width:0.8;\"/>\n   </g>\n   <g id=\"patch_6\">\n    <path d=\"M 26.925 7.2 \nL 244.365 7.2 \n\" style=\"fill:none;stroke:#000000;stroke-linecap:square;stroke-linejoin:miter;stroke-width:0.8;\"/>\n   </g>\n  </g>\n </g>\n <defs>\n  <clipPath id=\"pa218d893d6\">\n   <rect height=\"217.44\" width=\"217.44\" x=\"26.925\" y=\"7.2\"/>\n  </clipPath>\n </defs>\n</svg>\n",
      "image/png": "[encoded data removed]"
     },
     "metadata": {
      "needs_background": "light"
     }
    }
   ],
   "source": [
    "for i in tqdm(range(5)):\n",
    "    optimizer_g, optimizer_d, d_loss, g_loss, rng = train_step(rng, optimizer_g, optimizer_d, next(dataset))\n",
    "\n",
    "    if i % 100:\n",
    "        samples = sample(rng, generator, 1)\n",
    "        plt.imshow(jnp.reshape(samples, [28, 28]))\n",
    "\n",
    "    print(d_loss)\n",
    "    print(g_loss)"
   ]
  },
  {
   "cell_type": "code",
   "execution_count": null,
   "metadata": {},
   "outputs": [],
   "source": []
  }
 ]
}