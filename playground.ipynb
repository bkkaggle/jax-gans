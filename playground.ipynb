{
 "metadata": {
  "language_info": {
   "codemirror_mode": {
    "name": "ipython",
    "version": 3
   },
   "file_extension": ".py",
   "mimetype": "text/x-python",
   "name": "python",
   "nbconvert_exporter": "python",
   "pygments_lexer": "ipython3",
   "version": "3.7.5-final"
  },
  "orig_nbformat": 2,
  "kernelspec": {
   "name": "Python 3.7.5 64-bit ('pytorch': conda)",
   "display_name": "Python 3.7.5 64-bit ('pytorch': conda)",
   "metadata": {
    "interpreter": {
     "hash": "2a0dcc473b42072c6003f1a9a844b5459b3db9cecf194469f92969e4c4926e4b"
    }
   }
  }
 },
 "nbformat": 4,
 "nbformat_minor": 2,
 "cells": [
  {
   "cell_type": "code",
   "execution_count": 5,
   "metadata": {},
   "outputs": [],
   "source": [
    "import os\n",
    "import argparse\n",
    "from glob import glob\n",
    "from functools import partial\n",
    "\n",
    "import numpy as np\n",
    "from tqdm import tqdm\n",
    "import matplotlib.pyplot as plt\n",
    "\n",
    "import cv2\n",
    "from PIL import Image\n",
    "\n",
    "import wandb\n",
    "\n",
    "import jax\n",
    "import jax.numpy as jnp\n",
    "import flax\n",
    "\n",
    "import torch\n",
    "import torchvision.transforms as transforms\n",
    "import tensorflow as tf\n",
    "import tensorflow_datasets as tfds\n",
    "\n",
    "\n",
    "class GANDataset(torch.utils.data.Dataset):\n",
    "    def __init__(self, args):\n",
    "        self.args = args\n",
    "\n",
    "        self.paths_a = glob('./data/trainA/*.jpg')\n",
    "        self.paths_b = glob('./data/trainB/*.jpg')\n",
    "\n",
    "        self.imgs_a = np.zeros((len(self.paths_a), 32, 32, 3), dtype=np.float32)\n",
    "        for i, path in tqdm(enumerate(self.paths_a)):\n",
    "            img = np.asarray(Image.open(path)) / 255.0\n",
    "            img = cv2.resize(img, dsize=(32, 32), interpolation=cv2.INTER_CUBIC).reshape(1, 32, 32, 3)\n",
    "            self.imgs_a[i] = img\n",
    "\n",
    "        self.imgs_b = np.zeros((len(self.paths_b), 32, 32, 3), dtype=np.float32)\n",
    "        for i, path in tqdm(enumerate(self.paths_b)):\n",
    "            img = np.asarray(Image.open(path)) / 255.0\n",
    "            img = cv2.resize(img, dsize=(32, 32), interpolation=cv2.INTER_CUBIC).reshape(1, 32, 32, 3)\n",
    "            self.imgs_b[i] = img\n",
    "\n",
    "        self.transforms = transforms.Compose([\n",
    "            transforms.ToTensor(),\n",
    "            transforms.ToPILImage(),\n",
    "            transforms.RandomHorizontalFlip(),\n",
    "            transforms.ColorJitter(hue=0.15),\n",
    "            transforms.RandomGrayscale(p=0.25),\n",
    "            transforms.RandomRotation(35),\n",
    "            transforms.RandomPerspective(distortion_scale=0.35),\n",
    "            transforms.ToTensor(),\n",
    "            transforms.Normalize((0.5, 0.5, 0.5), (0.5, 0.5, 0.5)),\n",
    "        ])\n",
    "\n",
    "    def __len__(self):\n",
    "        return len(self.paths_a)\n",
    "\n",
    "    def __getitem__(self, index):\n",
    "        img_a = self.imgs_a[index]\n",
    "        img_b = self.imgs_b[index]\n",
    "\n",
    "        img_a = self.transforms(img_a).numpy().transpose(1,2,0)\n",
    "        img_b = self.transforms(img_b).numpy().transpose(1,2,0)\n",
    "\n",
    "        return img_a, img_b"
   ]
  },
  {
   "cell_type": "code",
   "execution_count": 2,
   "metadata": {},
   "outputs": [
    {
     "output_type": "stream",
     "name": "stderr",
     "text": [
      "3400it [00:08, 408.98it/s]\n",
      "3400it [00:12, 263.52it/s]\n"
     ]
    }
   ],
   "source": [
    "dataset = GANDataset({})"
   ]
  },
  {
   "cell_type": "code",
   "execution_count": 3,
   "metadata": {},
   "outputs": [
    {
     "output_type": "stream",
     "name": "stdout",
     "text": [
      "966 µs ± 4.48 µs per loop (mean ± std. dev. of 7 runs, 1000 loops each)\n"
     ]
    }
   ],
   "source": [
    "%%timeit\n",
    "img_a, img_b = dataset[0]"
   ]
  },
  {
   "cell_type": "code",
   "execution_count": 41,
   "metadata": {},
   "outputs": [],
   "source": [
    "img_a, img_b = dataset[0]"
   ]
  },
  {
   "cell_type": "code",
   "execution_count": 42,
   "metadata": {},
   "outputs": [
    {
     "output_type": "execute_result",
     "data": {
      "text/plain": [
       "(32, 32, 3)"
      ]
     },
     "metadata": {},
     "execution_count": 42
    }
   ],
   "source": [
    "img_a.shape"
   ]
  },
  {
   "cell_type": "code",
   "execution_count": 6,
   "metadata": {},
   "outputs": [
    {
     "output_type": "error",
     "ename": "SyntaxError",
     "evalue": "invalid syntax (<ipython-input-6-2b51a6d3f62b>, line 1)",
     "traceback": [
      "\u001b[0;36m  File \u001b[0;32m\"<ipython-input-6-2b51a6d3f62b>\"\u001b[0;36m, line \u001b[0;32m1\u001b[0m\n\u001b[0;31m    plt.imshow((img_a*0.5)+0.5)/\u001b[0m\n\u001b[0m                                ^\u001b[0m\n\u001b[0;31mSyntaxError\u001b[0m\u001b[0;31m:\u001b[0m invalid syntax\n"
     ]
    }
   ],
   "source": [
    "plt.imshow((img_a*0.5)+0.5)/\n"
   ]
  },
  {
   "cell_type": "code",
   "execution_count": 7,
   "metadata": {},
   "outputs": [
    {
     "output_type": "error",
     "ename": "NameError",
     "evalue": "name 'img_b' is not defined",
     "traceback": [
      "\u001b[0;31m---------------------------------------------------------------------------\u001b[0m",
      "\u001b[0;31mNameError\u001b[0m                                 Traceback (most recent call last)",
      "\u001b[0;32m<ipython-input-7-e4ca261f8ad8>\u001b[0m in \u001b[0;36m<module>\u001b[0;34m\u001b[0m\n\u001b[0;32m----> 1\u001b[0;31m \u001b[0mplt\u001b[0m\u001b[0;34m.\u001b[0m\u001b[0mimshow\u001b[0m\u001b[0;34m(\u001b[0m\u001b[0;34m(\u001b[0m\u001b[0mimg_b\u001b[0m\u001b[0;34m*\u001b[0m\u001b[0;36m0.5\u001b[0m\u001b[0;34m)\u001b[0m\u001b[0;34m+\u001b[0m\u001b[0;36m0.5\u001b[0m\u001b[0;34m)\u001b[0m\u001b[0;34m(\u001b[0m\u001b[0;34m)\u001b[0m\u001b[0;34m\u001b[0m\u001b[0;34m\u001b[0m\u001b[0m\n\u001b[0m",
      "\u001b[0;31mNameError\u001b[0m: name 'img_b' is not defined"
     ]
    }
   ],
   "source": [
    "/plt.imshow((img_b*0.5)+0.5)"
   ]
  },
  {
   "cell_type": "code",
   "execution_count": 621,
   "metadata": {},
   "outputs": [],
   "source": [
    "train_dataloader = torch.utils.data.DataLoader(dataset, batch_size=256, shuffle=True, num_workers=4)"
   ]
  },
  {
   "cell_type": "code",
   "execution_count": 622,
   "metadata": {},
   "outputs": [
    {
     "output_type": "stream",
     "name": "stderr",
     "text": [
      "100%|██████████| 14/14 [00:01<00:00, 11.73it/s]\n"
     ]
    }
   ],
   "source": [
    "for (img_a, img_b) in tqdm(train_dataloader):\n",
    "    img_a = img_a\n",
    "    img_b = img_b"
   ]
  },
  {
   "cell_type": "code",
   "execution_count": null,
   "metadata": {},
   "outputs": [],
   "source": []
  }
 ]
}