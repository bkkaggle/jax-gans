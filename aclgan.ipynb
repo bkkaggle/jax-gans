{
 "metadata": {
  "language_info": {
   "codemirror_mode": {
    "name": "ipython",
    "version": 3
   },
   "file_extension": ".py",
   "mimetype": "text/x-python",
   "name": "python",
   "nbconvert_exporter": "python",
   "pygments_lexer": "ipython3",
   "version": "3.9.1-final"
  },
  "orig_nbformat": 2,
  "kernelspec": {
   "name": "python3",
   "display_name": "Python 3.9.1 64-bit",
   "metadata": {
    "interpreter": {
     "hash": "aee8b7b246df8f9039afb4144a1f6fd8d2ca17a180786b69acc140d282b71a49"
    }
   }
  }
 },
 "nbformat": 4,
 "nbformat_minor": 2,
 "cells": [
  {
   "cell_type": "code",
   "execution_count": 8,
   "metadata": {},
   "outputs": [],
   "source": [
    "import os\n",
    "import argparse\n",
    "from glob import glob\n",
    "from functools import partial\n",
    "\n",
    "import numpy as np\n",
    "from tqdm import tqdm\n",
    "import matplotlib.pyplot as plt\n",
    "\n",
    "import cv2\n",
    "from PIL import Image\n",
    "\n",
    "import wandb\n",
    "\n",
    "import jax\n",
    "import jax.numpy as jnp\n",
    "\n",
    "import torch\n",
    "import torchvision.transforms as transforms"
   ]
  },
  {
   "cell_type": "code",
   "execution_count": 9,
   "metadata": {},
   "outputs": [],
   "source": [
    "class GANDataset(torch.utils.data.Dataset):\n",
    "    def __init__(self, args):\n",
    "        self.args = args\n",
    "\n",
    "        self.paths_a = glob('./data/trainA/*.jpg')\n",
    "        self.paths_b = glob('./data/trainB/*.jpg')\n",
    "\n",
    "        self.imgs_a = np.zeros(\n",
    "            (len(self.paths_a), 32, 32, 3), dtype=np.float32)\n",
    "        for i, path in tqdm(enumerate(self.paths_a)):\n",
    "            img = np.asarray(Image.open(path)) / 255.0\n",
    "            img = cv2.resize(img, dsize=(\n",
    "                32, 32), interpolation=cv2.INTER_CUBIC).reshape(1, 32, 32, 3)\n",
    "            self.imgs_a[i] = img\n",
    "\n",
    "        self.imgs_b = np.zeros(\n",
    "            (len(self.paths_b), 32, 32, 3), dtype=np.float32)\n",
    "        for i, path in tqdm(enumerate(self.paths_b)):\n",
    "            img = np.asarray(Image.open(path)) / 255.0\n",
    "            img = cv2.resize(img, dsize=(\n",
    "                32, 32), interpolation=cv2.INTER_CUBIC).reshape(1, 32, 32, 3)\n",
    "            self.imgs_b[i] = img\n",
    "\n",
    "        self.transforms = transforms.Compose([\n",
    "            transforms.ToTensor(),\n",
    "            transforms.ToPILImage(),\n",
    "            transforms.RandomHorizontalFlip(),\n",
    "            transforms.ColorJitter(hue=0.15),\n",
    "            transforms.RandomGrayscale(p=0.25),\n",
    "            transforms.RandomRotation(35),\n",
    "            transforms.RandomPerspective(distortion_scale=0.35),\n",
    "            transforms.ToTensor(),\n",
    "            transforms.Normalize((0.5, 0.5, 0.5), (0.5, 0.5, 0.5)),\n",
    "        ])\n",
    "\n",
    "    def __len__(self):\n",
    "        return len(self.paths_a)\n",
    "\n",
    "    def __getitem__(self, index):\n",
    "        img_a = self.imgs_a[index]\n",
    "        img_b = self.imgs_b[index]\n",
    "\n",
    "        img_a = self.transforms(img_a).numpy().transpose(1, 2, 0)\n",
    "        img_b = self.transforms(img_b).numpy().transpose(1, 2, 0)\n",
    "        # img_a = img_a.transpose(1, 2, 0)\n",
    "        # img_b = img_b.transpose(1, 2, 0)\n",
    "\n",
    "        return img_a, img_b"
   ]
  },
  {
   "cell_type": "code",
   "execution_count": 10,
   "metadata": {},
   "outputs": [],
   "source": [
    "def shard(xs):\n",
    "    return jax.tree_map(\n",
    "        lambda x: x.reshape((jax.device_count(), -1) + x.shape[1:]), xs)"
   ]
  },
  {
   "cell_type": "code",
   "execution_count": 11,
   "metadata": {},
   "outputs": [],
   "source": [
    "import flax\n",
    "from flax import linen as nn"
   ]
  },
  {
   "cell_type": "code",
   "execution_count": 12,
   "metadata": {},
   "outputs": [],
   "source": [
    "class IN(nn.Module):\n",
    "    def __call__(self, x):\n",
    "        # assuming an image in the format HxWxC\n",
    "        mu = jnp.mean(x, axis=(1, 2), keepdims=True)\n",
    "        sigma_2 = jnp.var(x, axis=(1, 2), keepdims=True)\n",
    "\n",
    "        return (x - mu) / jnp.sqrt(sigma_2 + 1e-5)\n",
    "\n",
    "\n",
    "class AdaIN(nn.Module):\n",
    "    @nn.compact\n",
    "    # assuming an image in the format HxWxC\n",
    "    def __call__(self, content, style_mean, style_var):\n",
    "        content_mu = jnp.mean(content, axis=(1, 2), keepdims=True)\n",
    "        content_sigma_2 = jnp.var(content, axis=(1, 2), keepdims=True)\n",
    "\n",
    "        normalized_content = (content - content_mu) / \\\n",
    "            jnp.sqrt(content_sigma_2 + 1e-5)\n",
    "\n",
    "        return normalized_content * jnp.sqrt(style_var + 1e-5) + style_mean\n",
    "\n",
    "\n",
    "class Block(nn.Module):\n",
    "    padding: int\n",
    "    features: int\n",
    "    kernel_size: int\n",
    "    strides: int\n",
    "    norm: str = \"none\"\n",
    "\n",
    "    @nn.compact\n",
    "    def __call__(self, x, means=None, variances=None):\n",
    "        x = jnp.pad(x, [(0, 0), (self.padding, self.padding),\n",
    "                        (self.padding, self.padding), (0, 0)], mode='constant')\n",
    "\n",
    "        if self.norm == \"IN\":\n",
    "            x = IN()(x)\n",
    "        # elif self.norm == 'AdaIN' and means is not None and variances is not None:\n",
    "        #     x = AdaIN()(x, means, variances)\n",
    "\n",
    "        x = nn.relu(x)\n",
    "        x = nn.Conv(features=self.features, kernel_size=(self.kernel_size, self.kernel_size),\n",
    "                    strides=(self.strides, self.strides), padding='VALID')(x)\n",
    "\n",
    "        return x\n",
    "\n",
    "\n",
    "class ResBlock(nn.Module):\n",
    "    padding: int\n",
    "    features: int\n",
    "    kernel_size: int\n",
    "    strides: int\n",
    "    norm: str = \"none\"\n",
    "\n",
    "    @nn.compact\n",
    "    def __call__(self, x, means=None, variances=None):\n",
    "        residual_branch = x\n",
    "\n",
    "        x = Block(self.padding, self.features,\n",
    "                  self.kernel_size, self.strides, self.norm)(x, means, variances)\n",
    "        x = Block(self.padding, self.features,\n",
    "                  self.kernel_size, self.strides, \"none\")(x, means, variances)\n",
    "\n",
    "        return x + residual_branch\n",
    "\n",
    "\n",
    "class StyleEncoder(nn.Module):\n",
    "    @nn.compact\n",
    "    def __call__(self, x):\n",
    "        x = Block(padding=3, features=64, kernel_size=7, strides=1)(x)\n",
    "\n",
    "        x = Block(padding=1, features=64*2, kernel_size=4, strides=2)(x)\n",
    "        x = Block(padding=1, features=64*2*2,\n",
    "                  kernel_size=4, strides=2)(x)\n",
    "\n",
    "        x = Block(padding=1, features=64*2*2,\n",
    "                  kernel_size=4, strides=2)(x)\n",
    "        x = Block(padding=1, features=64*2*2,\n",
    "                  kernel_size=4, strides=2)(x)\n",
    "\n",
    "        x = jnp.mean(x, axis=(1, 2), keepdims=True)\n",
    "        x = nn.Conv(features=8, kernel_size=(1, 1),\n",
    "                    strides=(1, 1), padding='VALID')(x)\n",
    "\n",
    "        return x\n",
    "\n",
    "\n",
    "class ContentEncoder(nn.Module):\n",
    "    @nn.compact\n",
    "    def __call__(self, x):\n",
    "\n",
    "        x = Block(padding=3, features=64, kernel_size=7,\n",
    "                  strides=1, norm='IN')(x)\n",
    "\n",
    "        x = Block(padding=1, features=64*2,\n",
    "                  kernel_size=4, strides=2, norm='IN')(x)\n",
    "        x = Block(padding=1, features=64*2*2,\n",
    "                  kernel_size=4, strides=2, norm='IN')(x)\n",
    "\n",
    "        x = ResBlock(\n",
    "            padding=1, features=64*2*2, kernel_size=3, strides=1, norm='IN')(x)\n",
    "        x = ResBlock(\n",
    "            padding=1, features=64*2*2, kernel_size=3, strides=1, norm='IN')(x)\n",
    "        x = ResBlock(\n",
    "            padding=1, features=64*2*2, kernel_size=3, strides=1, norm='IN')(x)\n",
    "        x = ResBlock(\n",
    "            padding=1, features=64*2*2, kernel_size=3, strides=1, norm='IN')(x)\n",
    "\n",
    "        return x\n",
    "\n",
    "\n",
    "class MLP(nn.Module):\n",
    "    @nn.compact\n",
    "    def __call__(self, x):\n",
    "        x = nn.Dense(features=256, use_bias=True)(x)\n",
    "        x = nn.relu(x)\n",
    "        x = nn.Dense(features=256, use_bias=True)(x)\n",
    "        x = nn.relu(x)\n",
    "        x = nn.Dense(features=256, use_bias=True)(x)\n",
    "        x = nn.relu(x)\n",
    "        x = nn.Dense(features=256, use_bias=True)(x)\n",
    "        x = nn.relu(x)\n",
    "        x = nn.Dense(features=4*256*2, use_bias=True)(x)\n",
    "\n",
    "        return x\n",
    "\n",
    "\n",
    "class Decoder(nn.Module):\n",
    "    @nn.compact\n",
    "    def __call__(self, x, AdaIN_params):\n",
    "\n",
    "        means = []\n",
    "        variances = []\n",
    "        for i in range(0, 4*256*2, 256*2):\n",
    "            means_variances = AdaIN_params[:, :, :, i:i+256*2]\n",
    "            means.append(means_variances[:, :, :, :256])\n",
    "            variances.append(means_variances[:, :, :, 256:])\n",
    "        \n",
    "        x = ResBlock(padding=1, features=64*2*2, kernel_size=3,\n",
    "                     strides=1, norm='AdaIN')(x, means[0], variances[0])\n",
    "        x = ResBlock(padding=1, features=64*2*2, kernel_size=3,\n",
    "                     strides=1, norm='')(x, means[1], variances[1])\n",
    "        x = ResBlock(padding=1, features=64*2*2, kernel_size=3,\n",
    "                     strides=1, norm='')(x, means[2], variances[2])\n",
    "        x = ResBlock(padding=1, features=64*2*2, kernel_size=3,\n",
    "                     strides=1, norm='')(x, means[3], variances[3])\n",
    "\n",
    "        x = jax.image.resize(\n",
    "            x, (x.shape[0], x.shape[1]*2, x.shape[2]*2, x.shape[3]), method=jax.image.ResizeMethod.NEAREST)\n",
    "        x = Block(padding=2, features=64*2, kernel_size=5,\n",
    "                  strides=1, norm='IN')(x)\n",
    "\n",
    "        x = jax.image.resize(\n",
    "            x, (x.shape[0], x.shape[1]*2, x.shape[2]*2, x.shape[3]), method=jax.image.ResizeMethod.NEAREST)\n",
    "        x = Block(padding=2, features=64, kernel_size=5,\n",
    "                  strides=1, norm='IN')(x)\n",
    "\n",
    "        x = Block(padding=3, features=3, kernel_size=7, strides=1)(x)\n",
    "        x = jnp.tanh(x)\n",
    "\n",
    "        return x\n",
    "\n",
    "\n",
    "class G_enc(nn.Module):\n",
    "    @nn.compact\n",
    "    def __call__(self, x):\n",
    "        content = ContentEncoder()(x)\n",
    "        style = StyleEncoder()(x)\n",
    "        \n",
    "        return content, style\n",
    "\n",
    "class G_dec(nn.Module):\n",
    "    @nn.compact\n",
    "    def __call__(self, x, style):\n",
    "        AdaIN_params = MLP()(style)\n",
    "        out = Decoder()(x, AdaIN_params)\n",
    "        return out\n",
    "\n",
    "class D_part(nn.Module):\n",
    "    @nn.compact\n",
    "    def __call__(self, x):\n",
    "        x = jnp.pad(x, [(0, 0), (1, 1), (1, 1), (0, 0)], mode='constant')\n",
    "        x = nn.leaky_relu(x, negative_slope=0.2)\n",
    "        x = nn.Conv(features=64, kernel_size=(4, 4),\n",
    "                    strides=(2, 2), padding='VALID')(x)\n",
    "\n",
    "        x = jnp.pad(x, [(0, 0), (1, 1), (1, 1), (0, 0)], mode='constant')\n",
    "        x = nn.leaky_relu(x, negative_slope=0.2)\n",
    "        x = nn.Conv(features=64*2, kernel_size=(4, 4),\n",
    "                    strides=(2, 2), padding='VALID')(x)\n",
    "\n",
    "        x = jnp.pad(x, [(0, 0), (1, 1), (1, 1), (0, 0)], mode='constant')\n",
    "        x = nn.leaky_relu(x, negative_slope=0.2)\n",
    "        x = nn.Conv(features=64*2*2, kernel_size=(4, 4),\n",
    "                    strides=(2, 2), padding='VALID')(x)\n",
    "\n",
    "        x = jnp.pad(x, [(0, 0), (1, 1), (1, 1), (0, 0)], mode='constant')\n",
    "        x = nn.leaky_relu(x, negative_slope=0.2)\n",
    "        x = nn.Conv(features=64*2*2*2, kernel_size=(4, 4),\n",
    "                    strides=(2, 2), padding='VALID')(x)\n",
    "\n",
    "        x = nn.Conv(features=1, kernel_size=(1, 1),\n",
    "                    strides=(1, 1), padding=\"VALID\")(x)\n",
    "\n",
    "        return x\n",
    "\n",
    "\n",
    "class D(nn.Module):\n",
    "    @nn.compact\n",
    "    def __call__(self, x):\n",
    "        outputs = []\n",
    "\n",
    "        out = D_part()(x)\n",
    "        outputs.append(out)\n",
    "\n",
    "        x = nn.avg_pool(x, window_shape=(3, 3), strides=(\n",
    "            2, 2), padding=((1, 1), (1, 1)))\n",
    "        out = D_part()(x)\n",
    "        outputs.append(out)\n",
    "\n",
    "        x = nn.avg_pool(x, window_shape=(3, 3), strides=(\n",
    "            2, 2), padding=((1, 1), (1, 1)))\n",
    "        out = D_part()(x)\n",
    "        outputs.append(out)\n",
    "\n",
    "        return outputs"
   ]
  },
  {
   "cell_type": "code",
   "execution_count": 13,
   "metadata": {},
   "outputs": [],
   "source": [
    "def l2_loss(logits, labels):\n",
    "    loss = 0\n",
    "    for i in range(3):\n",
    "        loss +=jnp.mean((logits[i]-labels[i])**2)\n",
    "    return loss"
   ]
  },
  {
   "cell_type": "code",
   "execution_count": 14,
   "metadata": {},
   "outputs": [],
   "source": [
    "def l1_loss(logits, labels):\n",
    "    return jnp.mean(jnp.abs(logits - labels))"
   ]
  },
  {
   "cell_type": "code",
   "execution_count": 15,
   "metadata": {},
   "outputs": [],
   "source": [
    "def loss_g(g_params, d_params, x_s, x_t, rng):\n",
    "    rng, rng_1, rng_2, rng_3 = jax.random.split(rng, 4)\n",
    "\n",
    "    bs = x_s.shape[0]\n",
    "    z_1 = jax.random.normal(rng_1, shape=(bs, 1, 1, 8))\n",
    "    z_2 = jax.random.normal(rng_2, shape=(bs, 1, 1, 8))\n",
    "    z_3 = jax.random.normal(rng_3, shape=(bs, 1, 1, 8))\n",
    "\n",
    "    c_s, z_s = G_enc().apply({'params': g_params['g_s_enc']}, x_s)\n",
    "    fake_s = G_dec().apply({'params': g_params['g_s_dec']}, c_s, z_1)\n",
    "\n",
    "    c_t, z_t = G_enc().apply({'params': g_params['g_t_enc']}, x_s)\n",
    "    fake_t = G_dec().apply({'params': g_params['g_t_dec']}, c_t, z_2)\n",
    "\n",
    "    c_recon_s, z_recon_s = G_enc().apply(\n",
    "        {'params': g_params['g_s_enc']}, fake_t)\n",
    "    fake_recon_s = G_dec().apply(\n",
    "        {'params': g_params['g_s_dec']}, c_recon_s, z_3)\n",
    "\n",
    "    fake_idt_s = G_dec().apply(\n",
    "        {'params': g_params['g_s_dec']}, c_s, z_s)\n",
    "    fake_idt_t = G_dec().apply(\n",
    "        {'params': g_params['g_t_dec']}, c_t, z_t)\n",
    "\n",
    "    fake_logits_s = D().apply({'params': d_params['d_s']}, fake_s)\n",
    "    fake_logits_t = D().apply({'params': d_params['d_t']}, fake_t)\n",
    "\n",
    "    fake_logits_recon_s = D().apply(\n",
    "        {'params': d_params['d_s']}, fake_recon_s)\n",
    "\n",
    "    s_fake_s_logits = D().apply(\n",
    "        {'params': d_params['d_hat']}, jnp.concatenate([x_s, fake_s], axis=3))\n",
    "    s_fake_recon_s_logits = D().apply(\n",
    "        {'params': d_params['d_hat']}, jnp.concatenate([x_s, fake_recon_s], axis=3))\n",
    "\n",
    "    real_adv_labels = [jnp.ones_like(fake_logits_s[0]), jnp.ones_like(\n",
    "        fake_logits_s[1]), jnp.ones_like(fake_logits_s[2])]\n",
    "    real_acl_labels = [jnp.ones_like(s_fake_s_logits[0]), jnp.ones_like(\n",
    "        s_fake_s_logits[1]), jnp.ones_like(s_fake_s_logits[2])]\n",
    "    fake_acl_labels = [jnp.zeros_like(s_fake_s_logits[0]), jnp.zeros_like(\n",
    "        s_fake_s_logits[1]), jnp.zeros_like(s_fake_s_logits[2])]\n",
    "\n",
    "    loss_adv = l2_loss(fake_logits_t, real_adv_labels) + (l2_loss(fake_logits_s,\n",
    "                                                                  real_adv_labels) + l2_loss(fake_logits_recon_s, real_adv_labels)) / 2\n",
    "    loss_acl = l2_loss(s_fake_s_logits, real_acl_labels) + \\\n",
    "        l2_loss(s_fake_recon_s_logits, fake_acl_labels)\n",
    "    loss_idt = l1_loss(x_s, fake_idt_s) + l1_loss(x_t, fake_idt_t)\n",
    "\n",
    "    loss = loss_adv + 0.5 * loss_acl + loss_idt\n",
    "\n",
    "    return loss"
   ]
  },
  {
   "cell_type": "code",
   "execution_count": 16,
   "metadata": {},
   "outputs": [],
   "source": [
    "def loss_d(d_params, g_params, x_s, x_t, rng):\n",
    "    rng, rng_1, rng_2, rng_3 = jax.random.split(rng, 4)\n",
    "\n",
    "    bs = x_s.shape[0]\n",
    "    z_1 = jax.random.normal(rng_1, shape=(bs, 1, 1, 8))\n",
    "    z_2 = jax.random.normal(rng_2, shape=(bs, 1, 1, 8))\n",
    "    z_3 = jax.random.normal(rng_3, shape=(bs, 1, 1, 8))\n",
    "\n",
    "    c_s, z_s = G_enc().apply({'params': g_params['g_s_enc']}, x_s)\n",
    "    fake_s = G_dec().apply({'params': g_params['g_s_dec']}, c_s, z_1)\n",
    "\n",
    "    c_t, z_t = G_enc().apply({'params': g_params['g_t_enc']}, x_s)\n",
    "    fake_t = G_dec().apply({'params': g_params['g_t_dec']}, c_t, z_2)\n",
    "\n",
    "    c_recon_s, z_recon_s = G_enc().apply({'params': g_params['g_s_enc']}, fake_t)\n",
    "    fake_recon_s = G_dec().apply({'params': g_params['g_s_dec']}, c_recon_s, z_3)\n",
    "\n",
    "    real_logits_s = D().apply({'params': d_params['d_s']}, x_s)\n",
    "    fake_logits_s = D().apply({'params': d_params['d_s']}, fake_s)\n",
    "\n",
    "    real_logits_t = D().apply({'params': d_params['d_t']}, x_t)\n",
    "    fake_logits_t = D().apply({'params': d_params['d_t']}, fake_t)\n",
    "\n",
    "    real_logits_recon_s = D().apply({'params': d_params['d_s']}, x_s)\n",
    "    fake_logits_recon_s = D().apply({'params': d_params['d_s']}, fake_recon_s)\n",
    "\n",
    "    s_fake_s_logits = D().apply({'params': d_params['d_hat']}, jnp.concatenate([x_s, fake_s], axis=3))\n",
    "    s_fake_recon_s_logits = D().apply({'params': d_params['d_hat']}, jnp.concatenate([x_s, fake_recon_s], axis=3))\n",
    "\n",
    "    real_adv_labels = [jnp.ones_like(fake_logits_s[0]), jnp.ones_like(fake_logits_s[1]), jnp.ones_like(fake_logits_s[2])]\n",
    "    fake_adv_labels = [jnp.zeros_like(fake_logits_s[0]), jnp.zeros_like(fake_logits_s[1]), jnp.zeros_like(fake_logits_s[2])]\n",
    "    real_acl_labels = [jnp.ones_like(s_fake_s_logits[0]), jnp.ones_like(s_fake_s_logits[1]), jnp.ones_like(s_fake_s_logits[2])]\n",
    "    fake_acl_labels = [jnp.zeros_like(s_fake_s_logits[0]), jnp.zeros_like(s_fake_s_logits[1]), jnp.zeros_like(s_fake_s_logits[2])]\n",
    "\n",
    "    loss_adv = l2_loss(fake_logits_t, fake_adv_labels) + l2_loss(real_logits_t, real_adv_labels) + (l2_loss(fake_logits_s, fake_adv_labels) + l2_loss(real_logits_s, real_adv_labels) + l2_loss(fake_logits_recon_s, fake_adv_labels) + l2_loss(real_logits_recon_s, real_adv_labels)) / 2\n",
    "    loss_acl = l2_loss(s_fake_s_logits, fake_acl_labels) + l2_loss(s_fake_recon_s_logits, real_acl_labels)\n",
    "\n",
    "    loss = loss_adv + 0.5 * loss_acl\n",
    "\n",
    "    return loss"
   ]
  },
  {
   "cell_type": "code",
   "execution_count": 17,
   "metadata": {},
   "outputs": [
    {
     "output_type": "stream",
     "name": "stderr",
     "text": [
      "WARNING:absl:No GPU/TPU found, falling back to CPU. (Set TF_CPP_MIN_LOG_LEVEL=0 and rerun for more info.)\n"
     ]
    }
   ],
   "source": [
    "rng = jax.random.PRNGKey(42)\n",
    "\n",
    "init_x = jnp.ones((1, 64, 64, 3), jnp.float32)\n",
    "init_encoded = jnp.ones((1, 16, 16, 256), jnp.float32)\n",
    "init_z = jnp.zeros((1, 1, 1, 8), jnp.float32)\n",
    "init_x_acl = jnp.ones((1, 64, 64, 6), jnp.float32)\n",
    "\n",
    "variables_g_s_enc = G_enc().init(rng, init_x)\n",
    "variables_g_s_dec = G_dec().init(rng, init_encoded, init_z)\n",
    "\n",
    "variables_g_t_enc = G_enc().init(rng, init_x)\n",
    "variables_g_t_dec = G_dec().init(rng, init_encoded, init_z)\n",
    "\n",
    "variables_d_s = D().init(rng, init_x)\n",
    "variables_d_t = D().init(rng, init_x)\n",
    "variables_d_hat = D().init(rng, init_x_acl)"
   ]
  },
  {
   "cell_type": "code",
   "execution_count": 18,
   "metadata": {},
   "outputs": [],
   "source": [
    "g_params = {\n",
    "    'g_s_enc': variables_g_s_enc['params'],\n",
    "    'g_s_dec': variables_g_s_dec['params'],\n",
    "    'g_t_enc': variables_g_t_enc['params'],\n",
    "    'g_t_dec': variables_g_t_dec['params'],\n",
    "}\n",
    "\n",
    "d_params = {\n",
    "    'd_s': variables_d_s['params'],\n",
    "    'd_t': variables_d_t['params'],\n",
    "    'd_hat': variables_d_hat['params'],\n",
    "}"
   ]
  },
  {
   "cell_type": "code",
   "execution_count": 19,
   "metadata": {},
   "outputs": [],
   "source": [
    "x_s = jnp.ones((1, 64, 64, 3), jnp.float32)\n",
    "x_t = jnp.ones((1, 64, 64, 3), jnp.float32)"
   ]
  },
  {
   "cell_type": "code",
   "execution_count": 20,
   "metadata": {},
   "outputs": [],
   "source": [
    "x_s = shard(x_s)\n",
    "x_t = shard(x_t)"
   ]
  },
  {
   "cell_type": "code",
   "execution_count": 21,
   "metadata": {},
   "outputs": [],
   "source": [
    "rngs = jax.random.split(rng, num=jax.local_device_count())"
   ]
  },
  {
   "cell_type": "code",
   "execution_count": 22,
   "metadata": {},
   "outputs": [
    {
     "output_type": "stream",
     "name": "stderr",
     "text": [
      "WARNING:absl:No GPU/TPU found, falling back to CPU. (Set TF_CPP_MIN_LOG_LEVEL=0 and rerun for more info.)\n"
     ]
    }
   ],
   "source": [
    "optimizer_g = flax.optim.Adam(learning_rate=1e-2, beta1=0.5, beta2=0.9).create(g_params)\n",
    "optimizer_g = flax.jax_utils.replicate(optimizer_g)\n",
    "\n",
    "optimizer_d = flax.optim.Adam(learning_rate=1e-4, beta1=0.5, beta2=0.9).create(d_params)\n",
    "optimizer_d = flax.jax_utils.replicate(optimizer_d)"
   ]
  },
  {
   "cell_type": "code",
   "execution_count": 25,
   "metadata": {},
   "outputs": [],
   "source": [
    "rng, rng_sample = jax.random.split(rng)\n",
    "\n",
    "z = jax.random.normal(rng, shape=(1, 1, 1, 8))"
   ]
  },
  {
   "cell_type": "code",
   "execution_count": 26,
   "metadata": {},
   "outputs": [],
   "source": [
    "x = flax.jax_utils.unreplicate(x_s)"
   ]
  },
  {
   "cell_type": "code",
   "execution_count": 27,
   "metadata": {},
   "outputs": [
    {
     "output_type": "execute_result",
     "data": {
      "text/plain": [
       "(1, 64, 64, 3)"
      ]
     },
     "metadata": {},
     "execution_count": 27
    }
   ],
   "source": [
    "x.shape"
   ]
  },
  {
   "cell_type": "code",
   "execution_count": 28,
   "metadata": {},
   "outputs": [],
   "source": [
    "c, _ = G_enc().apply({'params': g_params['g_t_enc']}, x)\n",
    "sample = G_dec().apply({'params': g_params['g_t_dec']}, c, z)"
   ]
  },
  {
   "cell_type": "code",
   "execution_count": 31,
   "metadata": {},
   "outputs": [
    {
     "output_type": "execute_result",
     "data": {
      "text/plain": [
       "(1, 64, 64, 3)"
      ]
     },
     "metadata": {},
     "execution_count": 31
    }
   ],
   "source": [
    "sample.shape"
   ]
  },
  {
   "cell_type": "code",
   "execution_count": 32,
   "metadata": {},
   "outputs": [
    {
     "output_type": "stream",
     "name": "stderr",
     "text": [
      "WARNING:matplotlib.image:Clipping input data to the valid range for imshow with RGB data ([0..1] for floats or [0..255] for integers).\n"
     ]
    },
    {
     "output_type": "execute_result",
     "data": {
      "text/plain": [
       "<matplotlib.image.AxesImage at 0x14f962790>"
      ]
     },
     "metadata": {},
     "execution_count": 32
    },
    {
     "output_type": "display_data",
     "data": {
      "text/plain": "<Figure size 432x288 with 1 Axes>",
      "image/svg+xml": "<?xml version=\"1.0\" encoding=\"utf-8\" standalone=\"no\"?>\n<!DOCTYPE svg PUBLIC \"-//W3C//DTD SVG 1.1//EN\"\n  \"http://www.w3.org/Graphics/SVG/1.1/DTD/svg11.dtd\">\n<!-- Created with matplotlib (https://matplotlib.org/) -->\n<svg height=\"250.618594pt\" version=\"1.1\" viewBox=\"0 0 251.565 250.618594\" width=\"251.565pt\" xmlns=\"http://www.w3.org/2000/svg\" xmlns:xlink=\"http://www.w3.org/1999/xlink\">\n <metadata>\n  <rdf:RDF xmlns:cc=\"http://creativecommons.org/ns#\" xmlns:dc=\"http://purl.org/dc/elements/1.1/\" xmlns:rdf=\"http://www.w3.org/1999/02/22-rdf-syntax-ns#\">\n   <cc:Work>\n    <dc:type rdf:resource=\"http://purl.org/dc/dcmitype/StillImage\"/>\n    <dc:date>2020-12-31T23:58:58.456666</dc:date>\n    <dc:format>image/svg+xml</dc:format>\n    <dc:creator>\n     <cc:Agent>\n      <dc:title>Matplotlib v3.3.3, https://matplotlib.org/</dc:title>\n     </cc:Agent>\n    </dc:creator>\n   </cc:Work>\n  </rdf:RDF>\n </metadata>\n <defs>\n  <style type=\"text/css\">*{stroke-linecap:butt;stroke-linejoin:round;}</style>\n </defs>\n <g id=\"figure_1\">\n  <g id=\"patch_1\">\n   <path d=\"M 0 250.618594 \nL 251.565 250.618594 \nL 251.565 0 \nL 0 0 \nz\n\" style=\"fill:none;\"/>\n  </g>\n  <g id=\"axes_1\">\n   <g id=\"patch_2\">\n    <path d=\"M 26.925 226.740469 \nL 244.365 226.740469 \nL 244.365 9.300469 \nL 26.925 9.300469 \nz\n\" style=\"fill:#ffffff;\"/>\n   </g>\n   <g clip-path=\"url(#p1a43e41a93)\">\n    <image height=\"218\" id=\"image6b735b9d28\" transform=\"scale(1 -1)translate(0 -218)\" width=\"218\" x=\"26.925\" xlink:href=\"data:image/png;base64,\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\" y=\"-8.740469\"/>\n   </g>\n   <g id=\"matplotlib.axis_1\">\n    <g id=\"xtick_1\">\n     <g id=\"line2d_1\">\n      <defs>\n       <path d=\"M 0 0 \nL 0 3.5 \n\" id=\"ma5bf020473\" style=\"stroke:#000000;stroke-width:0.8;\"/>\n      </defs>\n      <g>\n       <use style=\"stroke:#000000;stroke-width:0.8;\" x=\"28.62375\" xlink:href=\"#ma5bf020473\" y=\"226.740469\"/>\n      </g>\n     </g>\n     <g id=\"text_1\">\n      <!-- 0 -->\n      <g transform=\"translate(25.4425 241.338906)scale(0.1 -0.1)\">\n       <defs>\n        <path d=\"M 31.78125 66.40625 \nQ 24.171875 66.40625 20.328125 58.90625 \nQ 16.5 51.421875 16.5 36.375 \nQ 16.5 21.390625 20.328125 13.890625 \nQ 24.171875 6.390625 31.78125 6.390625 \nQ 39.453125 6.390625 43.28125 13.890625 \nQ 47.125 21.390625 47.125 36.375 \nQ 47.125 51.421875 43.28125 58.90625 \nQ 39.453125 66.40625 31.78125 66.40625 \nz\nM 31.78125 74.21875 \nQ 44.046875 74.21875 50.515625 64.515625 \nQ 56.984375 54.828125 56.984375 36.375 \nQ 56.984375 17.96875 50.515625 8.265625 \nQ 44.046875 -1.421875 31.78125 -1.421875 \nQ 19.53125 -1.421875 13.0625 8.265625 \nQ 6.59375 17.96875 6.59375 36.375 \nQ 6.59375 54.828125 13.0625 64.515625 \nQ 19.53125 74.21875 31.78125 74.21875 \nz\n\" id=\"DejaVuSans-48\"/>\n       </defs>\n       <use xlink:href=\"#DejaVuSans-48\"/>\n      </g>\n     </g>\n    </g>\n    <g id=\"xtick_2\">\n     <g id=\"line2d_2\">\n      <g>\n       <use style=\"stroke:#000000;stroke-width:0.8;\" x=\"62.59875\" xlink:href=\"#ma5bf020473\" y=\"226.740469\"/>\n      </g>\n     </g>\n     <g id=\"text_2\">\n      <!-- 10 -->\n      <g transform=\"translate(56.23625 241.338906)scale(0.1 -0.1)\">\n       <defs>\n        <path d=\"M 12.40625 8.296875 \nL 28.515625 8.296875 \nL 28.515625 63.921875 \nL 10.984375 60.40625 \nL 10.984375 69.390625 \nL 28.421875 72.90625 \nL 38.28125 72.90625 \nL 38.28125 8.296875 \nL 54.390625 8.296875 \nL 54.390625 0 \nL 12.40625 0 \nz\n\" id=\"DejaVuSans-49\"/>\n       </defs>\n       <use xlink:href=\"#DejaVuSans-49\"/>\n       <use x=\"63.623047\" xlink:href=\"#DejaVuSans-48\"/>\n      </g>\n     </g>\n    </g>\n    <g id=\"xtick_3\">\n     <g id=\"line2d_3\">\n      <g>\n       <use style=\"stroke:#000000;stroke-width:0.8;\" x=\"96.57375\" xlink:href=\"#ma5bf020473\" y=\"226.740469\"/>\n      </g>\n     </g>\n     <g id=\"text_3\">\n      <!-- 20 -->\n      <g transform=\"translate(90.21125 241.338906)scale(0.1 -0.1)\">\n       <defs>\n        <path d=\"M 19.1875 8.296875 \nL 53.609375 8.296875 \nL 53.609375 0 \nL 7.328125 0 \nL 7.328125 8.296875 \nQ 12.9375 14.109375 22.625 23.890625 \nQ 32.328125 33.6875 34.8125 36.53125 \nQ 39.546875 41.84375 41.421875 45.53125 \nQ 43.3125 49.21875 43.3125 52.78125 \nQ 43.3125 58.59375 39.234375 62.25 \nQ 35.15625 65.921875 28.609375 65.921875 \nQ 23.96875 65.921875 18.8125 64.3125 \nQ 13.671875 62.703125 7.8125 59.421875 \nL 7.8125 69.390625 \nQ 13.765625 71.78125 18.9375 73 \nQ 24.125 74.21875 28.421875 74.21875 \nQ 39.75 74.21875 46.484375 68.546875 \nQ 53.21875 62.890625 53.21875 53.421875 \nQ 53.21875 48.921875 51.53125 44.890625 \nQ 49.859375 40.875 45.40625 35.40625 \nQ 44.1875 33.984375 37.640625 27.21875 \nQ 31.109375 20.453125 19.1875 8.296875 \nz\n\" id=\"DejaVuSans-50\"/>\n       </defs>\n       <use xlink:href=\"#DejaVuSans-50\"/>\n       <use x=\"63.623047\" xlink:href=\"#DejaVuSans-48\"/>\n      </g>\n     </g>\n    </g>\n    <g id=\"xtick_4\">\n     <g id=\"line2d_4\">\n      <g>\n       <use style=\"stroke:#000000;stroke-width:0.8;\" x=\"130.54875\" xlink:href=\"#ma5bf020473\" y=\"226.740469\"/>\n      </g>\n     </g>\n     <g id=\"text_4\">\n      <!-- 30 -->\n      <g transform=\"translate(124.18625 241.338906)scale(0.1 -0.1)\">\n       <defs>\n        <path d=\"M 40.578125 39.3125 \nQ 47.65625 37.796875 51.625 33 \nQ 55.609375 28.21875 55.609375 21.1875 \nQ 55.609375 10.40625 48.1875 4.484375 \nQ 40.765625 -1.421875 27.09375 -1.421875 \nQ 22.515625 -1.421875 17.65625 -0.515625 \nQ 12.796875 0.390625 7.625 2.203125 \nL 7.625 11.71875 \nQ 11.71875 9.328125 16.59375 8.109375 \nQ 21.484375 6.890625 26.8125 6.890625 \nQ 36.078125 6.890625 40.9375 10.546875 \nQ 45.796875 14.203125 45.796875 21.1875 \nQ 45.796875 27.640625 41.28125 31.265625 \nQ 36.765625 34.90625 28.71875 34.90625 \nL 20.21875 34.90625 \nL 20.21875 43.015625 \nL 29.109375 43.015625 \nQ 36.375 43.015625 40.234375 45.921875 \nQ 44.09375 48.828125 44.09375 54.296875 \nQ 44.09375 59.90625 40.109375 62.90625 \nQ 36.140625 65.921875 28.71875 65.921875 \nQ 24.65625 65.921875 20.015625 65.03125 \nQ 15.375 64.15625 9.8125 62.3125 \nL 9.8125 71.09375 \nQ 15.4375 72.65625 20.34375 73.4375 \nQ 25.25 74.21875 29.59375 74.21875 \nQ 40.828125 74.21875 47.359375 69.109375 \nQ 53.90625 64.015625 53.90625 55.328125 \nQ 53.90625 49.265625 50.4375 45.09375 \nQ 46.96875 40.921875 40.578125 39.3125 \nz\n\" id=\"DejaVuSans-51\"/>\n       </defs>\n       <use xlink:href=\"#DejaVuSans-51\"/>\n       <use x=\"63.623047\" xlink:href=\"#DejaVuSans-48\"/>\n      </g>\n     </g>\n    </g>\n    <g id=\"xtick_5\">\n     <g id=\"line2d_5\">\n      <g>\n       <use style=\"stroke:#000000;stroke-width:0.8;\" x=\"164.52375\" xlink:href=\"#ma5bf020473\" y=\"226.740469\"/>\n      </g>\n     </g>\n     <g id=\"text_5\">\n      <!-- 40 -->\n      <g transform=\"translate(158.16125 241.338906)scale(0.1 -0.1)\">\n       <defs>\n        <path d=\"M 37.796875 64.3125 \nL 12.890625 25.390625 \nL 37.796875 25.390625 \nz\nM 35.203125 72.90625 \nL 47.609375 72.90625 \nL 47.609375 25.390625 \nL 58.015625 25.390625 \nL 58.015625 17.1875 \nL 47.609375 17.1875 \nL 47.609375 0 \nL 37.796875 0 \nL 37.796875 17.1875 \nL 4.890625 17.1875 \nL 4.890625 26.703125 \nz\n\" id=\"DejaVuSans-52\"/>\n       </defs>\n       <use xlink:href=\"#DejaVuSans-52\"/>\n       <use x=\"63.623047\" xlink:href=\"#DejaVuSans-48\"/>\n      </g>\n     </g>\n    </g>\n    <g id=\"xtick_6\">\n     <g id=\"line2d_6\">\n      <g>\n       <use style=\"stroke:#000000;stroke-width:0.8;\" x=\"198.49875\" xlink:href=\"#ma5bf020473\" y=\"226.740469\"/>\n      </g>\n     </g>\n     <g id=\"text_6\">\n      <!-- 50 -->\n      <g transform=\"translate(192.13625 241.338906)scale(0.1 -0.1)\">\n       <defs>\n        <path d=\"M 10.796875 72.90625 \nL 49.515625 72.90625 \nL 49.515625 64.59375 \nL 19.828125 64.59375 \nL 19.828125 46.734375 \nQ 21.96875 47.46875 24.109375 47.828125 \nQ 26.265625 48.1875 28.421875 48.1875 \nQ 40.625 48.1875 47.75 41.5 \nQ 54.890625 34.8125 54.890625 23.390625 \nQ 54.890625 11.625 47.5625 5.09375 \nQ 40.234375 -1.421875 26.90625 -1.421875 \nQ 22.3125 -1.421875 17.546875 -0.640625 \nQ 12.796875 0.140625 7.71875 1.703125 \nL 7.71875 11.625 \nQ 12.109375 9.234375 16.796875 8.0625 \nQ 21.484375 6.890625 26.703125 6.890625 \nQ 35.15625 6.890625 40.078125 11.328125 \nQ 45.015625 15.765625 45.015625 23.390625 \nQ 45.015625 31 40.078125 35.4375 \nQ 35.15625 39.890625 26.703125 39.890625 \nQ 22.75 39.890625 18.8125 39.015625 \nQ 14.890625 38.140625 10.796875 36.28125 \nz\n\" id=\"DejaVuSans-53\"/>\n       </defs>\n       <use xlink:href=\"#DejaVuSans-53\"/>\n       <use x=\"63.623047\" xlink:href=\"#DejaVuSans-48\"/>\n      </g>\n     </g>\n    </g>\n    <g id=\"xtick_7\">\n     <g id=\"line2d_7\">\n      <g>\n       <use style=\"stroke:#000000;stroke-width:0.8;\" x=\"232.47375\" xlink:href=\"#ma5bf020473\" y=\"226.740469\"/>\n      </g>\n     </g>\n     <g id=\"text_7\">\n      <!-- 60 -->\n      <g transform=\"translate(226.11125 241.338906)scale(0.1 -0.1)\">\n       <defs>\n        <path d=\"M 33.015625 40.375 \nQ 26.375 40.375 22.484375 35.828125 \nQ 18.609375 31.296875 18.609375 23.390625 \nQ 18.609375 15.53125 22.484375 10.953125 \nQ 26.375 6.390625 33.015625 6.390625 \nQ 39.65625 6.390625 43.53125 10.953125 \nQ 47.40625 15.53125 47.40625 23.390625 \nQ 47.40625 31.296875 43.53125 35.828125 \nQ 39.65625 40.375 33.015625 40.375 \nz\nM 52.59375 71.296875 \nL 52.59375 62.3125 \nQ 48.875 64.0625 45.09375 64.984375 \nQ 41.3125 65.921875 37.59375 65.921875 \nQ 27.828125 65.921875 22.671875 59.328125 \nQ 17.53125 52.734375 16.796875 39.40625 \nQ 19.671875 43.65625 24.015625 45.921875 \nQ 28.375 48.1875 33.59375 48.1875 \nQ 44.578125 48.1875 50.953125 41.515625 \nQ 57.328125 34.859375 57.328125 23.390625 \nQ 57.328125 12.15625 50.6875 5.359375 \nQ 44.046875 -1.421875 33.015625 -1.421875 \nQ 20.359375 -1.421875 13.671875 8.265625 \nQ 6.984375 17.96875 6.984375 36.375 \nQ 6.984375 53.65625 15.1875 63.9375 \nQ 23.390625 74.21875 37.203125 74.21875 \nQ 40.921875 74.21875 44.703125 73.484375 \nQ 48.484375 72.75 52.59375 71.296875 \nz\n\" id=\"DejaVuSans-54\"/>\n       </defs>\n       <use xlink:href=\"#DejaVuSans-54\"/>\n       <use x=\"63.623047\" xlink:href=\"#DejaVuSans-48\"/>\n      </g>\n     </g>\n    </g>\n   </g>\n   <g id=\"matplotlib.axis_2\">\n    <g id=\"ytick_1\">\n     <g id=\"line2d_8\">\n      <defs>\n       <path d=\"M 0 0 \nL -3.5 0 \n\" id=\"m736d6c8579\" style=\"stroke:#000000;stroke-width:0.8;\"/>\n      </defs>\n      <g>\n       <use style=\"stroke:#000000;stroke-width:0.8;\" x=\"26.925\" xlink:href=\"#m736d6c8579\" y=\"10.999219\"/>\n      </g>\n     </g>\n     <g id=\"text_8\">\n      <!-- 0 -->\n      <g transform=\"translate(13.5625 14.798437)scale(0.1 -0.1)\">\n       <use xlink:href=\"#DejaVuSans-48\"/>\n      </g>\n     </g>\n    </g>\n    <g id=\"ytick_2\">\n     <g id=\"line2d_9\">\n      <g>\n       <use style=\"stroke:#000000;stroke-width:0.8;\" x=\"26.925\" xlink:href=\"#m736d6c8579\" y=\"44.974219\"/>\n      </g>\n     </g>\n     <g id=\"text_9\">\n      <!-- 10 -->\n      <g transform=\"translate(7.2 48.773437)scale(0.1 -0.1)\">\n       <use xlink:href=\"#DejaVuSans-49\"/>\n       <use x=\"63.623047\" xlink:href=\"#DejaVuSans-48\"/>\n      </g>\n     </g>\n    </g>\n    <g id=\"ytick_3\">\n     <g id=\"line2d_10\">\n      <g>\n       <use style=\"stroke:#000000;stroke-width:0.8;\" x=\"26.925\" xlink:href=\"#m736d6c8579\" y=\"78.949219\"/>\n      </g>\n     </g>\n     <g id=\"text_10\">\n      <!-- 20 -->\n      <g transform=\"translate(7.2 82.748437)scale(0.1 -0.1)\">\n       <use xlink:href=\"#DejaVuSans-50\"/>\n       <use x=\"63.623047\" xlink:href=\"#DejaVuSans-48\"/>\n      </g>\n     </g>\n    </g>\n    <g id=\"ytick_4\">\n     <g id=\"line2d_11\">\n      <g>\n       <use style=\"stroke:#000000;stroke-width:0.8;\" x=\"26.925\" xlink:href=\"#m736d6c8579\" y=\"112.924219\"/>\n      </g>\n     </g>\n     <g id=\"text_11\">\n      <!-- 30 -->\n      <g transform=\"translate(7.2 116.723437)scale(0.1 -0.1)\">\n       <use xlink:href=\"#DejaVuSans-51\"/>\n       <use x=\"63.623047\" xlink:href=\"#DejaVuSans-48\"/>\n      </g>\n     </g>\n    </g>\n    <g id=\"ytick_5\">\n     <g id=\"line2d_12\">\n      <g>\n       <use style=\"stroke:#000000;stroke-width:0.8;\" x=\"26.925\" xlink:href=\"#m736d6c8579\" y=\"146.899219\"/>\n      </g>\n     </g>\n     <g id=\"text_12\">\n      <!-- 40 -->\n      <g transform=\"translate(7.2 150.698437)scale(0.1 -0.1)\">\n       <use xlink:href=\"#DejaVuSans-52\"/>\n       <use x=\"63.623047\" xlink:href=\"#DejaVuSans-48\"/>\n      </g>\n     </g>\n    </g>\n    <g id=\"ytick_6\">\n     <g id=\"line2d_13\">\n      <g>\n       <use style=\"stroke:#000000;stroke-width:0.8;\" x=\"26.925\" xlink:href=\"#m736d6c8579\" y=\"180.874219\"/>\n      </g>\n     </g>\n     <g id=\"text_13\">\n      <!-- 50 -->\n      <g transform=\"translate(7.2 184.673437)scale(0.1 -0.1)\">\n       <use xlink:href=\"#DejaVuSans-53\"/>\n       <use x=\"63.623047\" xlink:href=\"#DejaVuSans-48\"/>\n      </g>\n     </g>\n    </g>\n    <g id=\"ytick_7\">\n     <g id=\"line2d_14\">\n      <g>\n       <use style=\"stroke:#000000;stroke-width:0.8;\" x=\"26.925\" xlink:href=\"#m736d6c8579\" y=\"214.849219\"/>\n      </g>\n     </g>\n     <g id=\"text_14\">\n      <!-- 60 -->\n      <g transform=\"translate(7.2 218.648437)scale(0.1 -0.1)\">\n       <use xlink:href=\"#DejaVuSans-54\"/>\n       <use x=\"63.623047\" xlink:href=\"#DejaVuSans-48\"/>\n      </g>\n     </g>\n    </g>\n   </g>\n   <g id=\"patch_3\">\n    <path d=\"M 26.925 226.740469 \nL 26.925 9.300469 \n\" style=\"fill:none;stroke:#000000;stroke-linecap:square;stroke-linejoin:miter;stroke-width:0.8;\"/>\n   </g>\n   <g id=\"patch_4\">\n    <path d=\"M 244.365 226.740469 \nL 244.365 9.300469 \n\" style=\"fill:none;stroke:#000000;stroke-linecap:square;stroke-linejoin:miter;stroke-width:0.8;\"/>\n   </g>\n   <g id=\"patch_5\">\n    <path d=\"M 26.925 226.740469 \nL 244.365 226.740469 \n\" style=\"fill:none;stroke:#000000;stroke-linecap:square;stroke-linejoin:miter;stroke-width:0.8;\"/>\n   </g>\n   <g id=\"patch_6\">\n    <path d=\"M 26.925 9.300469 \nL 244.365 9.300469 \n\" style=\"fill:none;stroke:#000000;stroke-linecap:square;stroke-linejoin:miter;stroke-width:0.8;\"/>\n   </g>\n  </g>\n </g>\n <defs>\n  <clipPath id=\"p1a43e41a93\">\n   <rect height=\"217.44\" width=\"217.44\" x=\"26.925\" y=\"9.300469\"/>\n  </clipPath>\n </defs>\n</svg>\n",
      "image/png": "[encoded data removed]"
     },
     "metadata": {
      "needs_background": "light"
     }
    }
   ],
   "source": [
    "plt.imshow(sample.reshape(64, 64, 3))"
   ]
  },
  {
   "cell_type": "code",
   "execution_count": 38,
   "metadata": {},
   "outputs": [
    {
     "output_type": "execute_result",
     "data": {
      "text/plain": [
       "<matplotlib.image.AxesImage at 0x14fd040d0>"
      ]
     },
     "metadata": {},
     "execution_count": 38
    },
    {
     "output_type": "display_data",
     "data": {
      "text/plain": "<Figure size 432x288 with 1 Axes>",
      "image/svg+xml": "<?xml version=\"1.0\" encoding=\"utf-8\" standalone=\"no\"?>\n<!DOCTYPE svg PUBLIC \"-//W3C//DTD SVG 1.1//EN\"\n  \"http://www.w3.org/Graphics/SVG/1.1/DTD/svg11.dtd\">\n<!-- Created with matplotlib (https://matplotlib.org/) -->\n<svg height=\"250.618594pt\" version=\"1.1\" viewBox=\"0 0 251.565 250.618594\" width=\"251.565pt\" xmlns=\"http://www.w3.org/2000/svg\" xmlns:xlink=\"http://www.w3.org/1999/xlink\">\n <metadata>\n  <rdf:RDF xmlns:cc=\"http://creativecommons.org/ns#\" xmlns:dc=\"http://purl.org/dc/elements/1.1/\" xmlns:rdf=\"http://www.w3.org/1999/02/22-rdf-syntax-ns#\">\n   <cc:Work>\n    <dc:type rdf:resource=\"http://purl.org/dc/dcmitype/StillImage\"/>\n    <dc:date>2021-01-01T00:00:06.596191</dc:date>\n    <dc:format>image/svg+xml</dc:format>\n    <dc:creator>\n     <cc:Agent>\n      <dc:title>Matplotlib v3.3.3, https://matplotlib.org/</dc:title>\n     </cc:Agent>\n    </dc:creator>\n   </cc:Work>\n  </rdf:RDF>\n </metadata>\n <defs>\n  <style type=\"text/css\">*{stroke-linecap:butt;stroke-linejoin:round;}</style>\n </defs>\n <g id=\"figure_1\">\n  <g id=\"patch_1\">\n   <path d=\"M 0 250.618594 \nL 251.565 250.618594 \nL 251.565 0 \nL 0 0 \nz\n\" style=\"fill:none;\"/>\n  </g>\n  <g id=\"axes_1\">\n   <g id=\"patch_2\">\n    <path d=\"M 26.925 226.740469 \nL 244.365 226.740469 \nL 244.365 9.300469 \nL 26.925 9.300469 \nz\n\" style=\"fill:#ffffff;\"/>\n   </g>\n   <g clip-path=\"url(#paa18c6e486)\">\n    <image height=\"218\" id=\"image08007e00ab\" transform=\"scale(1 -1)translate(0 -218)\" width=\"218\" x=\"26.925\" xlink:href=\"data:image/png;base64,\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\" y=\"-8.740469\"/>\n   </g>\n   <g id=\"matplotlib.axis_1\">\n    <g id=\"xtick_1\">\n     <g id=\"line2d_1\">\n      <defs>\n       <path d=\"M 0 0 \nL 0 3.5 \n\" id=\"m23e1d58549\" style=\"stroke:#000000;stroke-width:0.8;\"/>\n      </defs>\n      <g>\n       <use style=\"stroke:#000000;stroke-width:0.8;\" x=\"28.62375\" xlink:href=\"#m23e1d58549\" y=\"226.740469\"/>\n      </g>\n     </g>\n     <g id=\"text_1\">\n      <!-- 0 -->\n      <g transform=\"translate(25.4425 241.338906)scale(0.1 -0.1)\">\n       <defs>\n        <path d=\"M 31.78125 66.40625 \nQ 24.171875 66.40625 20.328125 58.90625 \nQ 16.5 51.421875 16.5 36.375 \nQ 16.5 21.390625 20.328125 13.890625 \nQ 24.171875 6.390625 31.78125 6.390625 \nQ 39.453125 6.390625 43.28125 13.890625 \nQ 47.125 21.390625 47.125 36.375 \nQ 47.125 51.421875 43.28125 58.90625 \nQ 39.453125 66.40625 31.78125 66.40625 \nz\nM 31.78125 74.21875 \nQ 44.046875 74.21875 50.515625 64.515625 \nQ 56.984375 54.828125 56.984375 36.375 \nQ 56.984375 17.96875 50.515625 8.265625 \nQ 44.046875 -1.421875 31.78125 -1.421875 \nQ 19.53125 -1.421875 13.0625 8.265625 \nQ 6.59375 17.96875 6.59375 36.375 \nQ 6.59375 54.828125 13.0625 64.515625 \nQ 19.53125 74.21875 31.78125 74.21875 \nz\n\" id=\"DejaVuSans-48\"/>\n       </defs>\n       <use xlink:href=\"#DejaVuSans-48\"/>\n      </g>\n     </g>\n    </g>\n    <g id=\"xtick_2\">\n     <g id=\"line2d_2\">\n      <g>\n       <use style=\"stroke:#000000;stroke-width:0.8;\" x=\"62.59875\" xlink:href=\"#m23e1d58549\" y=\"226.740469\"/>\n      </g>\n     </g>\n     <g id=\"text_2\">\n      <!-- 10 -->\n      <g transform=\"translate(56.23625 241.338906)scale(0.1 -0.1)\">\n       <defs>\n        <path d=\"M 12.40625 8.296875 \nL 28.515625 8.296875 \nL 28.515625 63.921875 \nL 10.984375 60.40625 \nL 10.984375 69.390625 \nL 28.421875 72.90625 \nL 38.28125 72.90625 \nL 38.28125 8.296875 \nL 54.390625 8.296875 \nL 54.390625 0 \nL 12.40625 0 \nz\n\" id=\"DejaVuSans-49\"/>\n       </defs>\n       <use xlink:href=\"#DejaVuSans-49\"/>\n       <use x=\"63.623047\" xlink:href=\"#DejaVuSans-48\"/>\n      </g>\n     </g>\n    </g>\n    <g id=\"xtick_3\">\n     <g id=\"line2d_3\">\n      <g>\n       <use style=\"stroke:#000000;stroke-width:0.8;\" x=\"96.57375\" xlink:href=\"#m23e1d58549\" y=\"226.740469\"/>\n      </g>\n     </g>\n     <g id=\"text_3\">\n      <!-- 20 -->\n      <g transform=\"translate(90.21125 241.338906)scale(0.1 -0.1)\">\n       <defs>\n        <path d=\"M 19.1875 8.296875 \nL 53.609375 8.296875 \nL 53.609375 0 \nL 7.328125 0 \nL 7.328125 8.296875 \nQ 12.9375 14.109375 22.625 23.890625 \nQ 32.328125 33.6875 34.8125 36.53125 \nQ 39.546875 41.84375 41.421875 45.53125 \nQ 43.3125 49.21875 43.3125 52.78125 \nQ 43.3125 58.59375 39.234375 62.25 \nQ 35.15625 65.921875 28.609375 65.921875 \nQ 23.96875 65.921875 18.8125 64.3125 \nQ 13.671875 62.703125 7.8125 59.421875 \nL 7.8125 69.390625 \nQ 13.765625 71.78125 18.9375 73 \nQ 24.125 74.21875 28.421875 74.21875 \nQ 39.75 74.21875 46.484375 68.546875 \nQ 53.21875 62.890625 53.21875 53.421875 \nQ 53.21875 48.921875 51.53125 44.890625 \nQ 49.859375 40.875 45.40625 35.40625 \nQ 44.1875 33.984375 37.640625 27.21875 \nQ 31.109375 20.453125 19.1875 8.296875 \nz\n\" id=\"DejaVuSans-50\"/>\n       </defs>\n       <use xlink:href=\"#DejaVuSans-50\"/>\n       <use x=\"63.623047\" xlink:href=\"#DejaVuSans-48\"/>\n      </g>\n     </g>\n    </g>\n    <g id=\"xtick_4\">\n     <g id=\"line2d_4\">\n      <g>\n       <use style=\"stroke:#000000;stroke-width:0.8;\" x=\"130.54875\" xlink:href=\"#m23e1d58549\" y=\"226.740469\"/>\n      </g>\n     </g>\n     <g id=\"text_4\">\n      <!-- 30 -->\n      <g transform=\"translate(124.18625 241.338906)scale(0.1 -0.1)\">\n       <defs>\n        <path d=\"M 40.578125 39.3125 \nQ 47.65625 37.796875 51.625 33 \nQ 55.609375 28.21875 55.609375 21.1875 \nQ 55.609375 10.40625 48.1875 4.484375 \nQ 40.765625 -1.421875 27.09375 -1.421875 \nQ 22.515625 -1.421875 17.65625 -0.515625 \nQ 12.796875 0.390625 7.625 2.203125 \nL 7.625 11.71875 \nQ 11.71875 9.328125 16.59375 8.109375 \nQ 21.484375 6.890625 26.8125 6.890625 \nQ 36.078125 6.890625 40.9375 10.546875 \nQ 45.796875 14.203125 45.796875 21.1875 \nQ 45.796875 27.640625 41.28125 31.265625 \nQ 36.765625 34.90625 28.71875 34.90625 \nL 20.21875 34.90625 \nL 20.21875 43.015625 \nL 29.109375 43.015625 \nQ 36.375 43.015625 40.234375 45.921875 \nQ 44.09375 48.828125 44.09375 54.296875 \nQ 44.09375 59.90625 40.109375 62.90625 \nQ 36.140625 65.921875 28.71875 65.921875 \nQ 24.65625 65.921875 20.015625 65.03125 \nQ 15.375 64.15625 9.8125 62.3125 \nL 9.8125 71.09375 \nQ 15.4375 72.65625 20.34375 73.4375 \nQ 25.25 74.21875 29.59375 74.21875 \nQ 40.828125 74.21875 47.359375 69.109375 \nQ 53.90625 64.015625 53.90625 55.328125 \nQ 53.90625 49.265625 50.4375 45.09375 \nQ 46.96875 40.921875 40.578125 39.3125 \nz\n\" id=\"DejaVuSans-51\"/>\n       </defs>\n       <use xlink:href=\"#DejaVuSans-51\"/>\n       <use x=\"63.623047\" xlink:href=\"#DejaVuSans-48\"/>\n      </g>\n     </g>\n    </g>\n    <g id=\"xtick_5\">\n     <g id=\"line2d_5\">\n      <g>\n       <use style=\"stroke:#000000;stroke-width:0.8;\" x=\"164.52375\" xlink:href=\"#m23e1d58549\" y=\"226.740469\"/>\n      </g>\n     </g>\n     <g id=\"text_5\">\n      <!-- 40 -->\n      <g transform=\"translate(158.16125 241.338906)scale(0.1 -0.1)\">\n       <defs>\n        <path d=\"M 37.796875 64.3125 \nL 12.890625 25.390625 \nL 37.796875 25.390625 \nz\nM 35.203125 72.90625 \nL 47.609375 72.90625 \nL 47.609375 25.390625 \nL 58.015625 25.390625 \nL 58.015625 17.1875 \nL 47.609375 17.1875 \nL 47.609375 0 \nL 37.796875 0 \nL 37.796875 17.1875 \nL 4.890625 17.1875 \nL 4.890625 26.703125 \nz\n\" id=\"DejaVuSans-52\"/>\n       </defs>\n       <use xlink:href=\"#DejaVuSans-52\"/>\n       <use x=\"63.623047\" xlink:href=\"#DejaVuSans-48\"/>\n      </g>\n     </g>\n    </g>\n    <g id=\"xtick_6\">\n     <g id=\"line2d_6\">\n      <g>\n       <use style=\"stroke:#000000;stroke-width:0.8;\" x=\"198.49875\" xlink:href=\"#m23e1d58549\" y=\"226.740469\"/>\n      </g>\n     </g>\n     <g id=\"text_6\">\n      <!-- 50 -->\n      <g transform=\"translate(192.13625 241.338906)scale(0.1 -0.1)\">\n       <defs>\n        <path d=\"M 10.796875 72.90625 \nL 49.515625 72.90625 \nL 49.515625 64.59375 \nL 19.828125 64.59375 \nL 19.828125 46.734375 \nQ 21.96875 47.46875 24.109375 47.828125 \nQ 26.265625 48.1875 28.421875 48.1875 \nQ 40.625 48.1875 47.75 41.5 \nQ 54.890625 34.8125 54.890625 23.390625 \nQ 54.890625 11.625 47.5625 5.09375 \nQ 40.234375 -1.421875 26.90625 -1.421875 \nQ 22.3125 -1.421875 17.546875 -0.640625 \nQ 12.796875 0.140625 7.71875 1.703125 \nL 7.71875 11.625 \nQ 12.109375 9.234375 16.796875 8.0625 \nQ 21.484375 6.890625 26.703125 6.890625 \nQ 35.15625 6.890625 40.078125 11.328125 \nQ 45.015625 15.765625 45.015625 23.390625 \nQ 45.015625 31 40.078125 35.4375 \nQ 35.15625 39.890625 26.703125 39.890625 \nQ 22.75 39.890625 18.8125 39.015625 \nQ 14.890625 38.140625 10.796875 36.28125 \nz\n\" id=\"DejaVuSans-53\"/>\n       </defs>\n       <use xlink:href=\"#DejaVuSans-53\"/>\n       <use x=\"63.623047\" xlink:href=\"#DejaVuSans-48\"/>\n      </g>\n     </g>\n    </g>\n    <g id=\"xtick_7\">\n     <g id=\"line2d_7\">\n      <g>\n       <use style=\"stroke:#000000;stroke-width:0.8;\" x=\"232.47375\" xlink:href=\"#m23e1d58549\" y=\"226.740469\"/>\n      </g>\n     </g>\n     <g id=\"text_7\">\n      <!-- 60 -->\n      <g transform=\"translate(226.11125 241.338906)scale(0.1 -0.1)\">\n       <defs>\n        <path d=\"M 33.015625 40.375 \nQ 26.375 40.375 22.484375 35.828125 \nQ 18.609375 31.296875 18.609375 23.390625 \nQ 18.609375 15.53125 22.484375 10.953125 \nQ 26.375 6.390625 33.015625 6.390625 \nQ 39.65625 6.390625 43.53125 10.953125 \nQ 47.40625 15.53125 47.40625 23.390625 \nQ 47.40625 31.296875 43.53125 35.828125 \nQ 39.65625 40.375 33.015625 40.375 \nz\nM 52.59375 71.296875 \nL 52.59375 62.3125 \nQ 48.875 64.0625 45.09375 64.984375 \nQ 41.3125 65.921875 37.59375 65.921875 \nQ 27.828125 65.921875 22.671875 59.328125 \nQ 17.53125 52.734375 16.796875 39.40625 \nQ 19.671875 43.65625 24.015625 45.921875 \nQ 28.375 48.1875 33.59375 48.1875 \nQ 44.578125 48.1875 50.953125 41.515625 \nQ 57.328125 34.859375 57.328125 23.390625 \nQ 57.328125 12.15625 50.6875 5.359375 \nQ 44.046875 -1.421875 33.015625 -1.421875 \nQ 20.359375 -1.421875 13.671875 8.265625 \nQ 6.984375 17.96875 6.984375 36.375 \nQ 6.984375 53.65625 15.1875 63.9375 \nQ 23.390625 74.21875 37.203125 74.21875 \nQ 40.921875 74.21875 44.703125 73.484375 \nQ 48.484375 72.75 52.59375 71.296875 \nz\n\" id=\"DejaVuSans-54\"/>\n       </defs>\n       <use xlink:href=\"#DejaVuSans-54\"/>\n       <use x=\"63.623047\" xlink:href=\"#DejaVuSans-48\"/>\n      </g>\n     </g>\n    </g>\n   </g>\n   <g id=\"matplotlib.axis_2\">\n    <g id=\"ytick_1\">\n     <g id=\"line2d_8\">\n      <defs>\n       <path d=\"M 0 0 \nL -3.5 0 \n\" id=\"m0568a40a31\" style=\"stroke:#000000;stroke-width:0.8;\"/>\n      </defs>\n      <g>\n       <use style=\"stroke:#000000;stroke-width:0.8;\" x=\"26.925\" xlink:href=\"#m0568a40a31\" y=\"10.999219\"/>\n      </g>\n     </g>\n     <g id=\"text_8\">\n      <!-- 0 -->\n      <g transform=\"translate(13.5625 14.798437)scale(0.1 -0.1)\">\n       <use xlink:href=\"#DejaVuSans-48\"/>\n      </g>\n     </g>\n    </g>\n    <g id=\"ytick_2\">\n     <g id=\"line2d_9\">\n      <g>\n       <use style=\"stroke:#000000;stroke-width:0.8;\" x=\"26.925\" xlink:href=\"#m0568a40a31\" y=\"44.974219\"/>\n      </g>\n     </g>\n     <g id=\"text_9\">\n      <!-- 10 -->\n      <g transform=\"translate(7.2 48.773437)scale(0.1 -0.1)\">\n       <use xlink:href=\"#DejaVuSans-49\"/>\n       <use x=\"63.623047\" xlink:href=\"#DejaVuSans-48\"/>\n      </g>\n     </g>\n    </g>\n    <g id=\"ytick_3\">\n     <g id=\"line2d_10\">\n      <g>\n       <use style=\"stroke:#000000;stroke-width:0.8;\" x=\"26.925\" xlink:href=\"#m0568a40a31\" y=\"78.949219\"/>\n      </g>\n     </g>\n     <g id=\"text_10\">\n      <!-- 20 -->\n      <g transform=\"translate(7.2 82.748437)scale(0.1 -0.1)\">\n       <use xlink:href=\"#DejaVuSans-50\"/>\n       <use x=\"63.623047\" xlink:href=\"#DejaVuSans-48\"/>\n      </g>\n     </g>\n    </g>\n    <g id=\"ytick_4\">\n     <g id=\"line2d_11\">\n      <g>\n       <use style=\"stroke:#000000;stroke-width:0.8;\" x=\"26.925\" xlink:href=\"#m0568a40a31\" y=\"112.924219\"/>\n      </g>\n     </g>\n     <g id=\"text_11\">\n      <!-- 30 -->\n      <g transform=\"translate(7.2 116.723437)scale(0.1 -0.1)\">\n       <use xlink:href=\"#DejaVuSans-51\"/>\n       <use x=\"63.623047\" xlink:href=\"#DejaVuSans-48\"/>\n      </g>\n     </g>\n    </g>\n    <g id=\"ytick_5\">\n     <g id=\"line2d_12\">\n      <g>\n       <use style=\"stroke:#000000;stroke-width:0.8;\" x=\"26.925\" xlink:href=\"#m0568a40a31\" y=\"146.899219\"/>\n      </g>\n     </g>\n     <g id=\"text_12\">\n      <!-- 40 -->\n      <g transform=\"translate(7.2 150.698437)scale(0.1 -0.1)\">\n       <use xlink:href=\"#DejaVuSans-52\"/>\n       <use x=\"63.623047\" xlink:href=\"#DejaVuSans-48\"/>\n      </g>\n     </g>\n    </g>\n    <g id=\"ytick_6\">\n     <g id=\"line2d_13\">\n      <g>\n       <use style=\"stroke:#000000;stroke-width:0.8;\" x=\"26.925\" xlink:href=\"#m0568a40a31\" y=\"180.874219\"/>\n      </g>\n     </g>\n     <g id=\"text_13\">\n      <!-- 50 -->\n      <g transform=\"translate(7.2 184.673437)scale(0.1 -0.1)\">\n       <use xlink:href=\"#DejaVuSans-53\"/>\n       <use x=\"63.623047\" xlink:href=\"#DejaVuSans-48\"/>\n      </g>\n     </g>\n    </g>\n    <g id=\"ytick_7\">\n     <g id=\"line2d_14\">\n      <g>\n       <use style=\"stroke:#000000;stroke-width:0.8;\" x=\"26.925\" xlink:href=\"#m0568a40a31\" y=\"214.849219\"/>\n      </g>\n     </g>\n     <g id=\"text_14\">\n      <!-- 60 -->\n      <g transform=\"translate(7.2 218.648437)scale(0.1 -0.1)\">\n       <use xlink:href=\"#DejaVuSans-54\"/>\n       <use x=\"63.623047\" xlink:href=\"#DejaVuSans-48\"/>\n      </g>\n     </g>\n    </g>\n   </g>\n   <g id=\"patch_3\">\n    <path d=\"M 26.925 226.740469 \nL 26.925 9.300469 \n\" style=\"fill:none;stroke:#000000;stroke-linecap:square;stroke-linejoin:miter;stroke-width:0.8;\"/>\n   </g>\n   <g id=\"patch_4\">\n    <path d=\"M 244.365 226.740469 \nL 244.365 9.300469 \n\" style=\"fill:none;stroke:#000000;stroke-linecap:square;stroke-linejoin:miter;stroke-width:0.8;\"/>\n   </g>\n   <g id=\"patch_5\">\n    <path d=\"M 26.925 226.740469 \nL 244.365 226.740469 \n\" style=\"fill:none;stroke:#000000;stroke-linecap:square;stroke-linejoin:miter;stroke-width:0.8;\"/>\n   </g>\n   <g id=\"patch_6\">\n    <path d=\"M 26.925 9.300469 \nL 244.365 9.300469 \n\" style=\"fill:none;stroke:#000000;stroke-linecap:square;stroke-linejoin:miter;stroke-width:0.8;\"/>\n   </g>\n  </g>\n </g>\n <defs>\n  <clipPath id=\"paa18c6e486\">\n   <rect height=\"217.44\" width=\"217.44\" x=\"26.925\" y=\"9.300469\"/>\n  </clipPath>\n </defs>\n</svg>\n",
      "image/png": "[encoded data removed]"
     },
     "metadata": {
      "needs_background": "light"
     }
    }
   ],
   "source": [
    "plt.imshow((sample.reshape(64, 64, 3) + 1) / 2)"
   ]
  },
  {
   "cell_type": "code",
   "execution_count": 59,
   "metadata": {},
   "outputs": [],
   "source": [
    "@partial(jax.pmap, axis_name='batch')\n",
    "def train_step(optimizer_g, optimizer_d, x_s, x_t, rng):\n",
    "    g_loss, g_grad = jax.value_and_grad(loss_g)(optimizer_g.target, optimizer_d.target, x_s, x_t, rng)\n",
    "    g_loss = jax.lax.pmean(g_loss, axis_name='batch')\n",
    "    g_grad = jax.lax.pmean(g_grad, axis_name='batch')\n",
    "\n",
    "    optimizer_g = optimizer_g.apply_gradient(g_grad)\n",
    "\n",
    "    d_loss, d_grad = jax.value_and_grad(loss_d)(optimizer_d.target, optimizer_g.target, x_s, x_t, rng)\n",
    "    d_loss = jax.lax.pmean(d_loss, axis_name='batch')\n",
    "    d_grad = jax.lax.pmean(d_grad, axis_name='batch')\n",
    "\n",
    "    optimizer_d = optimizer_d.apply_gradient(d_grad)\n",
    "\n",
    "    return rng, optimizer_g, optimizer_d, g_loss, d_loss"
   ]
  },
  {
   "cell_type": "code",
   "execution_count": 60,
   "metadata": {},
   "outputs": [],
   "source": [
    "rngs, optimizer_g, optimizer_d, g_loss = train_step(optimizer_g, optimizer_d, x_s, x_t, rngs)"
   ]
  },
  {
   "cell_type": "code",
   "execution_count": 61,
   "metadata": {},
   "outputs": [
    {
     "output_type": "execute_result",
     "data": {
      "text/plain": [
       "ShardedDeviceArray([9.176939], dtype=float32)"
      ]
     },
     "metadata": {},
     "execution_count": 61
    }
   ],
   "source": [
    "g_loss"
   ]
  },
  {
   "cell_type": "code",
   "execution_count": null,
   "metadata": {},
   "outputs": [],
   "source": []
  }
 ]
}